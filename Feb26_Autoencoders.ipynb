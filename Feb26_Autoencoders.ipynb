{
  "nbformat": 4,
  "nbformat_minor": 0,
  "metadata": {
    "colab": {
      "name": "Feb26_Autoencoders.ipynb",
      "provenance": [],
      "authorship_tag": "ABX9TyO0SuaT8avctlAur01Vwmak",
      "include_colab_link": true
    },
    "kernelspec": {
      "name": "python3",
      "display_name": "Python 3"
    }
  },
  "cells": [
    {
      "cell_type": "markdown",
      "metadata": {
        "id": "view-in-github",
        "colab_type": "text"
      },
      "source": [
        "<a href=\"https://colab.research.google.com/github/Elignesin/SureStart/blob/main/Feb26_Autoencoders.ipynb\" target=\"_parent\"><img src=\"https://colab.research.google.com/assets/colab-badge.svg\" alt=\"Open In Colab\"/></a>"
      ]
    },
    {
      "cell_type": "markdown",
      "metadata": {
        "id": "au37Go-zLYju"
      },
      "source": [
        "### Building Autoencoders in Keras\r\n",
        "This notebook will be used to learn how to build Autoencoders in Keras. The code comes from the article at https://blog.keras.io/building-autoencoders-in-keras.html, and is not my own.  \r\n",
        "\r\n",
        "Autoencoders have three important properties:\r\n",
        "1. They are data specific, meaning they can only compress data like data they were trained on.  \r\n",
        "2. They are lossy, meaning outputs will be degraded compared to inputs  \r\n",
        "3. They learn automatically from data examples, meaning it doeees not need new engineering to train specialized instances or specific new inputs."
      ]
    },
    {
      "cell_type": "code",
      "metadata": {
        "id": "Qv98CWU7LTvX"
      },
      "source": [
        "import keras\r\n",
        "from keras import layers\r\n",
        "\r\n",
        "# This is the size of our encoded representations\r\n",
        "encoding_dim = 32  # 32 floats -> compression of factor 24.5, assuming the input is 784 floats\r\n",
        "\r\n",
        "# This is our input image\r\n",
        "input_img = keras.Input(shape=(784,))\r\n",
        "# \"encoded\" is the encoded representation of the input\r\n",
        "encoded = layers.Dense(encoding_dim, activation='relu')(input_img)\r\n",
        "# \"decoded\" is the lossy reconstruction of the input\r\n",
        "decoded = layers.Dense(784, activation='sigmoid')(encoded)\r\n",
        "\r\n",
        "# This model maps an input to its reconstruction\r\n",
        "autoencoder = keras.Model(input_img, decoded)"
      ],
      "execution_count": 1,
      "outputs": []
    },
    {
      "cell_type": "code",
      "metadata": {
        "id": "AmTam-aLN5hi"
      },
      "source": [
        "# This model maps an input to its encoded representation\r\n",
        "encoder = keras.Model(input_img, encoded)"
      ],
      "execution_count": 2,
      "outputs": []
    },
    {
      "cell_type": "code",
      "metadata": {
        "id": "b5EZWXPAN7xd"
      },
      "source": [
        "# This is our encoded (32-dimensional) input\r\n",
        "encoded_input = keras.Input(shape=(encoding_dim,))\r\n",
        "# Retrieve the last layer of the autoencoder model\r\n",
        "decoder_layer = autoencoder.layers[-1]\r\n",
        "# Create the decoder model\r\n",
        "decoder = keras.Model(encoded_input, decoder_layer(encoded_input))"
      ],
      "execution_count": 3,
      "outputs": []
    },
    {
      "cell_type": "code",
      "metadata": {
        "id": "aGd4FY6_OAOH"
      },
      "source": [
        "#Compile the autoencoder using adam as optimizer\r\n",
        "autoencoder.compile(optimizer='adam', loss='binary_crossentropy')"
      ],
      "execution_count": 4,
      "outputs": []
    },
    {
      "cell_type": "code",
      "metadata": {
        "colab": {
          "base_uri": "https://localhost:8080/"
        },
        "id": "GKsPGQv8OC3m",
        "outputId": "ecc09fae-e5b1-47d0-e2b8-293c53d017a7"
      },
      "source": [
        "#We're only going to use the images from MNIST, not the labels\r\n",
        "from keras.datasets import mnist\r\n",
        "import numpy as np\r\n",
        "(x_train, _), (x_test, _) = mnist.load_data()"
      ],
      "execution_count": 5,
      "outputs": [
        {
          "output_type": "stream",
          "text": [
            "Downloading data from https://storage.googleapis.com/tensorflow/tf-keras-datasets/mnist.npz\n",
            "11493376/11490434 [==============================] - 0s 0us/step\n"
          ],
          "name": "stdout"
        }
      ]
    },
    {
      "cell_type": "code",
      "metadata": {
        "colab": {
          "base_uri": "https://localhost:8080/"
        },
        "id": "ADZH392LOPwC",
        "outputId": "b22460bb-250c-471d-cdf2-20948a3c0aeb"
      },
      "source": [
        "#Preprocess the data by flattening it and normalizing it\r\n",
        "x_train = x_train.astype('float32') / 255.\r\n",
        "x_test = x_test.astype('float32') / 255.\r\n",
        "x_train = x_train.reshape((len(x_train), np.prod(x_train.shape[1:])))\r\n",
        "x_test = x_test.reshape((len(x_test), np.prod(x_test.shape[1:])))\r\n",
        "print(x_train.shape)\r\n",
        "print(x_test.shape)"
      ],
      "execution_count": 6,
      "outputs": [
        {
          "output_type": "stream",
          "text": [
            "(60000, 784)\n",
            "(10000, 784)\n"
          ],
          "name": "stdout"
        }
      ]
    },
    {
      "cell_type": "code",
      "metadata": {
        "colab": {
          "base_uri": "https://localhost:8080/"
        },
        "id": "GKPx7Yo-OVkx",
        "outputId": "86f35c2b-291f-495e-c9f9-cc4c0f20bf74"
      },
      "source": [
        "#Train our autoencoder for 50 epochs\r\n",
        "autoencoder.fit(x_train, x_train,\r\n",
        "                epochs=50,\r\n",
        "                batch_size=256,\r\n",
        "                shuffle=True,\r\n",
        "                validation_data=(x_test, x_test))"
      ],
      "execution_count": 7,
      "outputs": [
        {
          "output_type": "stream",
          "text": [
            "Epoch 1/50\n",
            "235/235 [==============================] - 3s 11ms/step - loss: 0.3840 - val_loss: 0.1921\n",
            "Epoch 2/50\n",
            "235/235 [==============================] - 2s 9ms/step - loss: 0.1809 - val_loss: 0.1528\n",
            "Epoch 3/50\n",
            "235/235 [==============================] - 2s 10ms/step - loss: 0.1488 - val_loss: 0.1332\n",
            "Epoch 4/50\n",
            "235/235 [==============================] - 2s 10ms/step - loss: 0.1314 - val_loss: 0.1214\n",
            "Epoch 5/50\n",
            "235/235 [==============================] - 2s 9ms/step - loss: 0.1207 - val_loss: 0.1135\n",
            "Epoch 6/50\n",
            "235/235 [==============================] - 2s 10ms/step - loss: 0.1134 - val_loss: 0.1077\n",
            "Epoch 7/50\n",
            "235/235 [==============================] - 2s 10ms/step - loss: 0.1077 - val_loss: 0.1033\n",
            "Epoch 8/50\n",
            "235/235 [==============================] - 2s 9ms/step - loss: 0.1036 - val_loss: 0.0999\n",
            "Epoch 9/50\n",
            "235/235 [==============================] - 2s 10ms/step - loss: 0.1007 - val_loss: 0.0975\n",
            "Epoch 10/50\n",
            "235/235 [==============================] - 2s 9ms/step - loss: 0.0982 - val_loss: 0.0959\n",
            "Epoch 11/50\n",
            "235/235 [==============================] - 2s 10ms/step - loss: 0.0966 - val_loss: 0.0948\n",
            "Epoch 12/50\n",
            "235/235 [==============================] - 2s 10ms/step - loss: 0.0957 - val_loss: 0.0940\n",
            "Epoch 13/50\n",
            "235/235 [==============================] - 2s 10ms/step - loss: 0.0950 - val_loss: 0.0936\n",
            "Epoch 14/50\n",
            "235/235 [==============================] - 2s 10ms/step - loss: 0.0945 - val_loss: 0.0932\n",
            "Epoch 15/50\n",
            "235/235 [==============================] - 2s 10ms/step - loss: 0.0941 - val_loss: 0.0929\n",
            "Epoch 16/50\n",
            "235/235 [==============================] - 2s 10ms/step - loss: 0.0940 - val_loss: 0.0927\n",
            "Epoch 17/50\n",
            "235/235 [==============================] - 2s 10ms/step - loss: 0.0938 - val_loss: 0.0925\n",
            "Epoch 18/50\n",
            "235/235 [==============================] - 2s 10ms/step - loss: 0.0939 - val_loss: 0.0924\n",
            "Epoch 19/50\n",
            "235/235 [==============================] - 2s 10ms/step - loss: 0.0936 - val_loss: 0.0924\n",
            "Epoch 20/50\n",
            "235/235 [==============================] - 2s 10ms/step - loss: 0.0934 - val_loss: 0.0923\n",
            "Epoch 21/50\n",
            "235/235 [==============================] - 2s 10ms/step - loss: 0.0935 - val_loss: 0.0922\n",
            "Epoch 22/50\n",
            "235/235 [==============================] - 2s 10ms/step - loss: 0.0935 - val_loss: 0.0922\n",
            "Epoch 23/50\n",
            "235/235 [==============================] - 2s 10ms/step - loss: 0.0933 - val_loss: 0.0921\n",
            "Epoch 24/50\n",
            "235/235 [==============================] - 2s 10ms/step - loss: 0.0931 - val_loss: 0.0920\n",
            "Epoch 25/50\n",
            "235/235 [==============================] - 2s 10ms/step - loss: 0.0931 - val_loss: 0.0920\n",
            "Epoch 26/50\n",
            "235/235 [==============================] - 2s 10ms/step - loss: 0.0931 - val_loss: 0.0919\n",
            "Epoch 27/50\n",
            "235/235 [==============================] - 2s 10ms/step - loss: 0.0930 - val_loss: 0.0920\n",
            "Epoch 28/50\n",
            "235/235 [==============================] - 2s 10ms/step - loss: 0.0931 - val_loss: 0.0919\n",
            "Epoch 29/50\n",
            "235/235 [==============================] - 2s 10ms/step - loss: 0.0930 - val_loss: 0.0919\n",
            "Epoch 30/50\n",
            "235/235 [==============================] - 2s 10ms/step - loss: 0.0930 - val_loss: 0.0918\n",
            "Epoch 31/50\n",
            "235/235 [==============================] - 2s 10ms/step - loss: 0.0931 - val_loss: 0.0918\n",
            "Epoch 32/50\n",
            "235/235 [==============================] - 2s 10ms/step - loss: 0.0929 - val_loss: 0.0919\n",
            "Epoch 33/50\n",
            "235/235 [==============================] - 2s 10ms/step - loss: 0.0928 - val_loss: 0.0918\n",
            "Epoch 34/50\n",
            "235/235 [==============================] - 2s 10ms/step - loss: 0.0931 - val_loss: 0.0918\n",
            "Epoch 35/50\n",
            "235/235 [==============================] - 2s 10ms/step - loss: 0.0930 - val_loss: 0.0918\n",
            "Epoch 36/50\n",
            "235/235 [==============================] - 2s 10ms/step - loss: 0.0927 - val_loss: 0.0918\n",
            "Epoch 37/50\n",
            "235/235 [==============================] - 2s 10ms/step - loss: 0.0927 - val_loss: 0.0918\n",
            "Epoch 38/50\n",
            "235/235 [==============================] - 2s 10ms/step - loss: 0.0928 - val_loss: 0.0917\n",
            "Epoch 39/50\n",
            "235/235 [==============================] - 2s 10ms/step - loss: 0.0927 - val_loss: 0.0917\n",
            "Epoch 40/50\n",
            "235/235 [==============================] - 2s 10ms/step - loss: 0.0930 - val_loss: 0.0917\n",
            "Epoch 41/50\n",
            "235/235 [==============================] - 2s 10ms/step - loss: 0.0929 - val_loss: 0.0918\n",
            "Epoch 42/50\n",
            "235/235 [==============================] - 2s 10ms/step - loss: 0.0928 - val_loss: 0.0917\n",
            "Epoch 43/50\n",
            "235/235 [==============================] - 2s 10ms/step - loss: 0.0930 - val_loss: 0.0917\n",
            "Epoch 44/50\n",
            "235/235 [==============================] - 2s 10ms/step - loss: 0.0928 - val_loss: 0.0917\n",
            "Epoch 45/50\n",
            "235/235 [==============================] - 2s 10ms/step - loss: 0.0927 - val_loss: 0.0917\n",
            "Epoch 46/50\n",
            "235/235 [==============================] - 2s 10ms/step - loss: 0.0927 - val_loss: 0.0918\n",
            "Epoch 47/50\n",
            "235/235 [==============================] - 2s 10ms/step - loss: 0.0926 - val_loss: 0.0916\n",
            "Epoch 48/50\n",
            "235/235 [==============================] - 2s 10ms/step - loss: 0.0927 - val_loss: 0.0917\n",
            "Epoch 49/50\n",
            "235/235 [==============================] - 2s 10ms/step - loss: 0.0925 - val_loss: 0.0916\n",
            "Epoch 50/50\n",
            "235/235 [==============================] - 2s 10ms/step - loss: 0.0926 - val_loss: 0.0916\n"
          ],
          "name": "stdout"
        },
        {
          "output_type": "execute_result",
          "data": {
            "text/plain": [
              "<tensorflow.python.keras.callbacks.History at 0x7f8ac20ad1d0>"
            ]
          },
          "metadata": {
            "tags": []
          },
          "execution_count": 7
        }
      ]
    },
    {
      "cell_type": "code",
      "metadata": {
        "id": "OK2Tqz_zO_Ij"
      },
      "source": [
        "# Encode and decode some digits\r\n",
        "# Note that we take them from the *test* set\r\n",
        "encoded_imgs = encoder.predict(x_test)\r\n",
        "decoded_imgs = decoder.predict(encoded_imgs)"
      ],
      "execution_count": 8,
      "outputs": []
    },
    {
      "cell_type": "code",
      "metadata": {
        "colab": {
          "base_uri": "https://localhost:8080/",
          "height": 166
        },
        "id": "WvkpFcBZPDbi",
        "outputId": "674c7365-0829-488e-f505-c0782ce22a04"
      },
      "source": [
        "#Display the encoded and decoded images to see how we did\r\n",
        "import matplotlib.pyplot as plt\r\n",
        "\r\n",
        "n = 10  # How many digits we will display\r\n",
        "plt.figure(figsize=(20, 4))\r\n",
        "for i in range(n):\r\n",
        "    # Display original\r\n",
        "    ax = plt.subplot(2, n, i + 1)\r\n",
        "    plt.imshow(x_test[i].reshape(28, 28))\r\n",
        "    plt.gray()\r\n",
        "    ax.get_xaxis().set_visible(False)\r\n",
        "    ax.get_yaxis().set_visible(False)\r\n",
        "\r\n",
        "    # Display reconstruction\r\n",
        "    ax = plt.subplot(2, n, i + 1 + n)\r\n",
        "    plt.imshow(decoded_imgs[i].reshape(28, 28))\r\n",
        "    plt.gray()\r\n",
        "    ax.get_xaxis().set_visible(False)\r\n",
        "    ax.get_yaxis().set_visible(False)\r\n",
        "plt.show()"
      ],
      "execution_count": 9,
      "outputs": [
        {
          "output_type": "display_data",
          "data": {
            "image/png": "[encoded data removed]",
            "text/plain": [
              "<Figure size 1440x288 with 20 Axes>"
            ]
          },
          "metadata": {
            "tags": [],
            "needs_background": "light"
          }
        }
      ]
    },
    {
      "cell_type": "markdown",
      "metadata": {
        "id": "76Mao5e3Pa_U"
      },
      "source": [
        "#### Now we'll add a sparsity constraint on the encoded representations\r\n",
        "This constrains the representations, as opposed to the above constraining via the number of units in the hidden layer. This will make our model less likely to overfit."
      ]
    },
    {
      "cell_type": "code",
      "metadata": {
        "colab": {
          "base_uri": "https://localhost:8080/"
        },
        "id": "_2X-mlEdPX_F",
        "outputId": "4826f7a2-67bf-45c3-9f36-8c48d2ef7a71"
      },
      "source": [
        "from keras import regularizers\r\n",
        "\r\n",
        "encoding_dim = 32\r\n",
        "\r\n",
        "input_img = keras.Input(shape=(784,))\r\n",
        "# Add a Dense layer with a L1 activity regularizer\r\n",
        "encoded = layers.Dense(encoding_dim, activation='relu',\r\n",
        "                activity_regularizer=regularizers.l1(10e-5))(input_img)\r\n",
        "decoded = layers.Dense(784, activation='sigmoid')(encoded)\r\n",
        "\r\n",
        "autoencoder = keras.Model(input_img, decoded)\r\n",
        "\r\n",
        "#Compile the autoencoder using adam as optimizer\r\n",
        "autoencoder.compile(optimizer='adam', loss='binary_crossentropy')\r\n",
        "\r\n",
        "#Train our autoencoder for 75 epochs\r\n",
        "autoencoder.fit(x_train, x_train,\r\n",
        "                epochs=75,\r\n",
        "                batch_size=256,\r\n",
        "                shuffle=True,\r\n",
        "                validation_data=(x_test, x_test))"
      ],
      "execution_count": 10,
      "outputs": [
        {
          "output_type": "stream",
          "text": [
            "Epoch 1/75\n",
            "235/235 [==============================] - 3s 10ms/step - loss: 0.3893 - val_loss: 0.2000\n",
            "Epoch 2/75\n",
            "235/235 [==============================] - 2s 10ms/step - loss: 0.1897 - val_loss: 0.1637\n",
            "Epoch 3/75\n",
            "235/235 [==============================] - 2s 10ms/step - loss: 0.1587 - val_loss: 0.1430\n",
            "Epoch 4/75\n",
            "235/235 [==============================] - 2s 10ms/step - loss: 0.1414 - val_loss: 0.1313\n",
            "Epoch 5/75\n",
            "235/235 [==============================] - 2s 10ms/step - loss: 0.1305 - val_loss: 0.1232\n",
            "Epoch 6/75\n",
            "235/235 [==============================] - 2s 10ms/step - loss: 0.1229 - val_loss: 0.1176\n",
            "Epoch 7/75\n",
            "235/235 [==============================] - 2s 10ms/step - loss: 0.1179 - val_loss: 0.1138\n",
            "Epoch 8/75\n",
            "235/235 [==============================] - 2s 10ms/step - loss: 0.1142 - val_loss: 0.1111\n",
            "Epoch 9/75\n",
            "235/235 [==============================] - 2s 9ms/step - loss: 0.1118 - val_loss: 0.1092\n",
            "Epoch 10/75\n",
            "235/235 [==============================] - 2s 10ms/step - loss: 0.1103 - val_loss: 0.1079\n",
            "Epoch 11/75\n",
            "235/235 [==============================] - 2s 10ms/step - loss: 0.1088 - val_loss: 0.1069\n",
            "Epoch 12/75\n",
            "235/235 [==============================] - 2s 10ms/step - loss: 0.1078 - val_loss: 0.1063\n",
            "Epoch 13/75\n",
            "235/235 [==============================] - 2s 10ms/step - loss: 0.1072 - val_loss: 0.1055\n",
            "Epoch 14/75\n",
            "235/235 [==============================] - 2s 10ms/step - loss: 0.1067 - val_loss: 0.1051\n",
            "Epoch 15/75\n",
            "235/235 [==============================] - 2s 10ms/step - loss: 0.1061 - val_loss: 0.1046\n",
            "Epoch 16/75\n",
            "235/235 [==============================] - 2s 10ms/step - loss: 0.1055 - val_loss: 0.1042\n",
            "Epoch 17/75\n",
            "235/235 [==============================] - 2s 10ms/step - loss: 0.1053 - val_loss: 0.1039\n",
            "Epoch 18/75\n",
            "235/235 [==============================] - 2s 10ms/step - loss: 0.1048 - val_loss: 0.1036\n",
            "Epoch 19/75\n",
            "235/235 [==============================] - 2s 10ms/step - loss: 0.1045 - val_loss: 0.1032\n",
            "Epoch 20/75\n",
            "235/235 [==============================] - 2s 10ms/step - loss: 0.1044 - val_loss: 0.1030\n",
            "Epoch 21/75\n",
            "235/235 [==============================] - 2s 10ms/step - loss: 0.1040 - val_loss: 0.1027\n",
            "Epoch 22/75\n",
            "235/235 [==============================] - 2s 10ms/step - loss: 0.1038 - val_loss: 0.1025\n",
            "Epoch 23/75\n",
            "235/235 [==============================] - 2s 10ms/step - loss: 0.1037 - val_loss: 0.1023\n",
            "Epoch 24/75\n",
            "235/235 [==============================] - 2s 10ms/step - loss: 0.1036 - val_loss: 0.1023\n",
            "Epoch 25/75\n",
            "235/235 [==============================] - 2s 10ms/step - loss: 0.1032 - val_loss: 0.1019\n",
            "Epoch 26/75\n",
            "235/235 [==============================] - 2s 10ms/step - loss: 0.1030 - val_loss: 0.1017\n",
            "Epoch 27/75\n",
            "235/235 [==============================] - 2s 10ms/step - loss: 0.1028 - val_loss: 0.1016\n",
            "Epoch 28/75\n",
            "235/235 [==============================] - 2s 10ms/step - loss: 0.1027 - val_loss: 0.1014\n",
            "Epoch 29/75\n",
            "235/235 [==============================] - 2s 10ms/step - loss: 0.1024 - val_loss: 0.1013\n",
            "Epoch 30/75\n",
            "235/235 [==============================] - 2s 10ms/step - loss: 0.1020 - val_loss: 0.1011\n",
            "Epoch 31/75\n",
            "235/235 [==============================] - 2s 10ms/step - loss: 0.1020 - val_loss: 0.1010\n",
            "Epoch 32/75\n",
            "235/235 [==============================] - 2s 10ms/step - loss: 0.1019 - val_loss: 0.1008\n",
            "Epoch 33/75\n",
            "235/235 [==============================] - 2s 10ms/step - loss: 0.1019 - val_loss: 0.1008\n",
            "Epoch 34/75\n",
            "235/235 [==============================] - 2s 10ms/step - loss: 0.1017 - val_loss: 0.1006\n",
            "Epoch 35/75\n",
            "235/235 [==============================] - 2s 10ms/step - loss: 0.1014 - val_loss: 0.1005\n",
            "Epoch 36/75\n",
            "235/235 [==============================] - 2s 10ms/step - loss: 0.1015 - val_loss: 0.1004\n",
            "Epoch 37/75\n",
            "235/235 [==============================] - 2s 10ms/step - loss: 0.1014 - val_loss: 0.1003\n",
            "Epoch 38/75\n",
            "235/235 [==============================] - 2s 10ms/step - loss: 0.1012 - val_loss: 0.1002\n",
            "Epoch 39/75\n",
            "235/235 [==============================] - 2s 10ms/step - loss: 0.1012 - val_loss: 0.1001\n",
            "Epoch 40/75\n",
            "235/235 [==============================] - 2s 10ms/step - loss: 0.1009 - val_loss: 0.0999\n",
            "Epoch 41/75\n",
            "235/235 [==============================] - 2s 10ms/step - loss: 0.1010 - val_loss: 0.0999\n",
            "Epoch 42/75\n",
            "235/235 [==============================] - 2s 10ms/step - loss: 0.1007 - val_loss: 0.0998\n",
            "Epoch 43/75\n",
            "235/235 [==============================] - 2s 10ms/step - loss: 0.1006 - val_loss: 0.0997\n",
            "Epoch 44/75\n",
            "235/235 [==============================] - 2s 10ms/step - loss: 0.1008 - val_loss: 0.0996\n",
            "Epoch 45/75\n",
            "235/235 [==============================] - 2s 10ms/step - loss: 0.1005 - val_loss: 0.0996\n",
            "Epoch 46/75\n",
            "235/235 [==============================] - 2s 11ms/step - loss: 0.1005 - val_loss: 0.0994\n",
            "Epoch 47/75\n",
            "235/235 [==============================] - 2s 10ms/step - loss: 0.1006 - val_loss: 0.0994\n",
            "Epoch 48/75\n",
            "235/235 [==============================] - 2s 10ms/step - loss: 0.1003 - val_loss: 0.0993\n",
            "Epoch 49/75\n",
            "235/235 [==============================] - 2s 10ms/step - loss: 0.1002 - val_loss: 0.0992\n",
            "Epoch 50/75\n",
            "235/235 [==============================] - 2s 10ms/step - loss: 0.1001 - val_loss: 0.0992\n",
            "Epoch 51/75\n",
            "235/235 [==============================] - 2s 10ms/step - loss: 0.1000 - val_loss: 0.0991\n",
            "Epoch 52/75\n",
            "235/235 [==============================] - 2s 10ms/step - loss: 0.1000 - val_loss: 0.0990\n",
            "Epoch 53/75\n",
            "235/235 [==============================] - 2s 10ms/step - loss: 0.1000 - val_loss: 0.0990\n",
            "Epoch 54/75\n",
            "235/235 [==============================] - 2s 10ms/step - loss: 0.0999 - val_loss: 0.0990\n",
            "Epoch 55/75\n",
            "235/235 [==============================] - 2s 10ms/step - loss: 0.0999 - val_loss: 0.0988\n",
            "Epoch 56/75\n",
            "235/235 [==============================] - 2s 10ms/step - loss: 0.0996 - val_loss: 0.0988\n",
            "Epoch 57/75\n",
            "235/235 [==============================] - 2s 10ms/step - loss: 0.0998 - val_loss: 0.0987\n",
            "Epoch 58/75\n",
            "235/235 [==============================] - 2s 10ms/step - loss: 0.0997 - val_loss: 0.0987\n",
            "Epoch 59/75\n",
            "235/235 [==============================] - 2s 11ms/step - loss: 0.0994 - val_loss: 0.0986\n",
            "Epoch 60/75\n",
            "235/235 [==============================] - 2s 11ms/step - loss: 0.0997 - val_loss: 0.0985\n",
            "Epoch 61/75\n",
            "235/235 [==============================] - 2s 10ms/step - loss: 0.0995 - val_loss: 0.0985\n",
            "Epoch 62/75\n",
            "235/235 [==============================] - 2s 10ms/step - loss: 0.0997 - val_loss: 0.0984\n",
            "Epoch 63/75\n",
            "235/235 [==============================] - 2s 10ms/step - loss: 0.0993 - val_loss: 0.0984\n",
            "Epoch 64/75\n",
            "235/235 [==============================] - 2s 10ms/step - loss: 0.0990 - val_loss: 0.0983\n",
            "Epoch 65/75\n",
            "235/235 [==============================] - 2s 10ms/step - loss: 0.0992 - val_loss: 0.0983\n",
            "Epoch 66/75\n",
            "235/235 [==============================] - 2s 10ms/step - loss: 0.0995 - val_loss: 0.0983\n",
            "Epoch 67/75\n",
            "235/235 [==============================] - 2s 11ms/step - loss: 0.0992 - val_loss: 0.0982\n",
            "Epoch 68/75\n",
            "235/235 [==============================] - 2s 11ms/step - loss: 0.0993 - val_loss: 0.0982\n",
            "Epoch 69/75\n",
            "235/235 [==============================] - 2s 11ms/step - loss: 0.0990 - val_loss: 0.0981\n",
            "Epoch 70/75\n",
            "235/235 [==============================] - 2s 11ms/step - loss: 0.0991 - val_loss: 0.0981\n",
            "Epoch 71/75\n",
            "235/235 [==============================] - 3s 11ms/step - loss: 0.0992 - val_loss: 0.0981\n",
            "Epoch 72/75\n",
            "235/235 [==============================] - 2s 10ms/step - loss: 0.0990 - val_loss: 0.0980\n",
            "Epoch 73/75\n",
            "235/235 [==============================] - 2s 10ms/step - loss: 0.0990 - val_loss: 0.0979\n",
            "Epoch 74/75\n",
            "235/235 [==============================] - 2s 10ms/step - loss: 0.0989 - val_loss: 0.0979\n",
            "Epoch 75/75\n",
            "235/235 [==============================] - 2s 10ms/step - loss: 0.0989 - val_loss: 0.0979\n"
          ],
          "name": "stdout"
        },
        {
          "output_type": "execute_result",
          "data": {
            "text/plain": [
              "<tensorflow.python.keras.callbacks.History at 0x7f8abd4aa590>"
            ]
          },
          "metadata": {
            "tags": []
          },
          "execution_count": 10
        }
      ]
    },
    {
      "cell_type": "code",
      "metadata": {
        "colab": {
          "base_uri": "https://localhost:8080/",
          "height": 166
        },
        "id": "lBD_MgYMQOE8",
        "outputId": "897a85da-937f-4873-838e-e8cd5065adf4"
      },
      "source": [
        "# Encode and decode some digits\r\n",
        "# Note that we take them from the *test* set\r\n",
        "encoded_imgs = encoder.predict(x_test)\r\n",
        "decoded_imgs = decoder.predict(encoded_imgs)\r\n",
        "\r\n",
        "#Display for the sparsity constrained model\r\n",
        "n = 10  # How many digits we will display\r\n",
        "plt.figure(figsize=(20, 4))\r\n",
        "for i in range(n):\r\n",
        "    # Display original\r\n",
        "    ax = plt.subplot(2, n, i + 1)\r\n",
        "    plt.imshow(x_test[i].reshape(28, 28))\r\n",
        "    plt.gray()\r\n",
        "    ax.get_xaxis().set_visible(False)\r\n",
        "    ax.get_yaxis().set_visible(False)\r\n",
        "\r\n",
        "    # Display reconstruction\r\n",
        "    ax = plt.subplot(2, n, i + 1 + n)\r\n",
        "    plt.imshow(decoded_imgs[i].reshape(28, 28))\r\n",
        "    plt.gray()\r\n",
        "    ax.get_xaxis().set_visible(False)\r\n",
        "    ax.get_yaxis().set_visible(False)\r\n",
        "plt.show()"
      ],
      "execution_count": 11,
      "outputs": [
        {
          "output_type": "display_data",
          "data": {
            "image/png": "[encoded data removed]",
            "text/plain": [
              "<Figure size 1440x288 with 20 Axes>"
            ]
          },
          "metadata": {
            "tags": [],
            "needs_background": "light"
          }
        }
      ]
    },
    {
      "cell_type": "code",
      "metadata": {
        "colab": {
          "base_uri": "https://localhost:8080/"
        },
        "id": "BNbutyXSP912",
        "outputId": "35a702d7-ae6e-4876-b61d-6ee3257fd09b"
      },
      "source": [
        "#This makes for a much deeper encoder, with more dense layers\r\n",
        "input_img = keras.Input(shape=(784,))\r\n",
        "encoded = layers.Dense(128, activation='relu')(input_img)\r\n",
        "encoded = layers.Dense(64, activation='relu')(encoded)\r\n",
        "encoded = layers.Dense(32, activation='relu')(encoded)\r\n",
        "\r\n",
        "decoded = layers.Dense(64, activation='relu')(encoded)\r\n",
        "decoded = layers.Dense(128, activation='relu')(decoded)\r\n",
        "decoded = layers.Dense(784, activation='sigmoid')(decoded)\r\n",
        "\r\n",
        "autoencoder = keras.Model(input_img, decoded)\r\n",
        "autoencoder.compile(optimizer='adam', loss='binary_crossentropy')\r\n",
        "\r\n",
        "#Again, we'll train this model on 75 epochs\r\n",
        "autoencoder.fit(x_train, x_train,\r\n",
        "                epochs=75,\r\n",
        "                batch_size=256,\r\n",
        "                shuffle=True,\r\n",
        "                validation_data=(x_test, x_test))"
      ],
      "execution_count": 12,
      "outputs": [
        {
          "output_type": "stream",
          "text": [
            "Epoch 1/75\n",
            "235/235 [==============================] - 4s 15ms/step - loss: 0.3390 - val_loss: 0.1658\n",
            "Epoch 2/75\n",
            "235/235 [==============================] - 3s 14ms/step - loss: 0.1572 - val_loss: 0.1339\n",
            "Epoch 3/75\n",
            "235/235 [==============================] - 3s 14ms/step - loss: 0.1320 - val_loss: 0.1230\n",
            "Epoch 4/75\n",
            "235/235 [==============================] - 3s 14ms/step - loss: 0.1234 - val_loss: 0.1168\n",
            "Epoch 5/75\n",
            "235/235 [==============================] - 3s 14ms/step - loss: 0.1172 - val_loss: 0.1116\n",
            "Epoch 6/75\n",
            "235/235 [==============================] - 3s 14ms/step - loss: 0.1115 - val_loss: 0.1064\n",
            "Epoch 7/75\n",
            "235/235 [==============================] - 3s 14ms/step - loss: 0.1070 - val_loss: 0.1035\n",
            "Epoch 8/75\n",
            "235/235 [==============================] - 3s 14ms/step - loss: 0.1044 - val_loss: 0.1011\n",
            "Epoch 9/75\n",
            "235/235 [==============================] - 3s 14ms/step - loss: 0.1018 - val_loss: 0.0995\n",
            "Epoch 10/75\n",
            "235/235 [==============================] - 3s 14ms/step - loss: 0.1004 - val_loss: 0.0984\n",
            "Epoch 11/75\n",
            "235/235 [==============================] - 3s 14ms/step - loss: 0.0988 - val_loss: 0.0972\n",
            "Epoch 12/75\n",
            "235/235 [==============================] - 3s 14ms/step - loss: 0.0976 - val_loss: 0.0967\n",
            "Epoch 13/75\n",
            "235/235 [==============================] - 3s 14ms/step - loss: 0.0966 - val_loss: 0.0949\n",
            "Epoch 14/75\n",
            "235/235 [==============================] - 3s 14ms/step - loss: 0.0954 - val_loss: 0.0937\n",
            "Epoch 15/75\n",
            "235/235 [==============================] - 3s 14ms/step - loss: 0.0945 - val_loss: 0.0931\n",
            "Epoch 16/75\n",
            "235/235 [==============================] - 3s 14ms/step - loss: 0.0939 - val_loss: 0.0929\n",
            "Epoch 17/75\n",
            "235/235 [==============================] - 3s 14ms/step - loss: 0.0930 - val_loss: 0.0914\n",
            "Epoch 18/75\n",
            "235/235 [==============================] - 3s 14ms/step - loss: 0.0920 - val_loss: 0.0907\n",
            "Epoch 19/75\n",
            "235/235 [==============================] - 3s 14ms/step - loss: 0.0913 - val_loss: 0.0900\n",
            "Epoch 20/75\n",
            "235/235 [==============================] - 3s 14ms/step - loss: 0.0908 - val_loss: 0.0894\n",
            "Epoch 21/75\n",
            "235/235 [==============================] - 3s 14ms/step - loss: 0.0902 - val_loss: 0.0892\n",
            "Epoch 22/75\n",
            "235/235 [==============================] - 3s 14ms/step - loss: 0.0896 - val_loss: 0.0887\n",
            "Epoch 23/75\n",
            "235/235 [==============================] - 3s 14ms/step - loss: 0.0891 - val_loss: 0.0880\n",
            "Epoch 24/75\n",
            "235/235 [==============================] - 3s 14ms/step - loss: 0.0888 - val_loss: 0.0878\n",
            "Epoch 25/75\n",
            "235/235 [==============================] - 3s 14ms/step - loss: 0.0881 - val_loss: 0.0872\n",
            "Epoch 26/75\n",
            "235/235 [==============================] - 3s 14ms/step - loss: 0.0878 - val_loss: 0.0871\n",
            "Epoch 27/75\n",
            "235/235 [==============================] - 3s 14ms/step - loss: 0.0876 - val_loss: 0.0867\n",
            "Epoch 28/75\n",
            "235/235 [==============================] - 3s 14ms/step - loss: 0.0875 - val_loss: 0.0864\n",
            "Epoch 29/75\n",
            "235/235 [==============================] - 4s 15ms/step - loss: 0.0872 - val_loss: 0.0863\n",
            "Epoch 30/75\n",
            "235/235 [==============================] - 3s 15ms/step - loss: 0.0867 - val_loss: 0.0858\n",
            "Epoch 31/75\n",
            "235/235 [==============================] - 3s 14ms/step - loss: 0.0865 - val_loss: 0.0856\n",
            "Epoch 32/75\n",
            "235/235 [==============================] - 3s 14ms/step - loss: 0.0861 - val_loss: 0.0854\n",
            "Epoch 33/75\n",
            "235/235 [==============================] - 3s 15ms/step - loss: 0.0859 - val_loss: 0.0855\n",
            "Epoch 34/75\n",
            "235/235 [==============================] - 3s 14ms/step - loss: 0.0856 - val_loss: 0.0848\n",
            "Epoch 35/75\n",
            "235/235 [==============================] - 3s 14ms/step - loss: 0.0853 - val_loss: 0.0848\n",
            "Epoch 36/75\n",
            "235/235 [==============================] - 3s 14ms/step - loss: 0.0853 - val_loss: 0.0843\n",
            "Epoch 37/75\n",
            "235/235 [==============================] - 3s 15ms/step - loss: 0.0847 - val_loss: 0.0842\n",
            "Epoch 38/75\n",
            "235/235 [==============================] - 3s 14ms/step - loss: 0.0848 - val_loss: 0.0841\n",
            "Epoch 39/75\n",
            "235/235 [==============================] - 3s 14ms/step - loss: 0.0844 - val_loss: 0.0840\n",
            "Epoch 40/75\n",
            "235/235 [==============================] - 3s 14ms/step - loss: 0.0842 - val_loss: 0.0834\n",
            "Epoch 41/75\n",
            "235/235 [==============================] - 3s 14ms/step - loss: 0.0840 - val_loss: 0.0833\n",
            "Epoch 42/75\n",
            "235/235 [==============================] - 3s 14ms/step - loss: 0.0839 - val_loss: 0.0834\n",
            "Epoch 43/75\n",
            "235/235 [==============================] - 3s 14ms/step - loss: 0.0837 - val_loss: 0.0831\n",
            "Epoch 44/75\n",
            "235/235 [==============================] - 3s 15ms/step - loss: 0.0834 - val_loss: 0.0831\n",
            "Epoch 45/75\n",
            "235/235 [==============================] - 3s 15ms/step - loss: 0.0835 - val_loss: 0.0833\n",
            "Epoch 46/75\n",
            "235/235 [==============================] - 3s 15ms/step - loss: 0.0832 - val_loss: 0.0826\n",
            "Epoch 47/75\n",
            "235/235 [==============================] - 3s 14ms/step - loss: 0.0832 - val_loss: 0.0826\n",
            "Epoch 48/75\n",
            "235/235 [==============================] - 3s 15ms/step - loss: 0.0830 - val_loss: 0.0825\n",
            "Epoch 49/75\n",
            "235/235 [==============================] - 3s 14ms/step - loss: 0.0829 - val_loss: 0.0824\n",
            "Epoch 50/75\n",
            "235/235 [==============================] - 3s 14ms/step - loss: 0.0829 - val_loss: 0.0825\n",
            "Epoch 51/75\n",
            "235/235 [==============================] - 3s 15ms/step - loss: 0.0828 - val_loss: 0.0822\n",
            "Epoch 52/75\n",
            "235/235 [==============================] - 4s 15ms/step - loss: 0.0826 - val_loss: 0.0823\n",
            "Epoch 53/75\n",
            "235/235 [==============================] - 3s 14ms/step - loss: 0.0826 - val_loss: 0.0821\n",
            "Epoch 54/75\n",
            "235/235 [==============================] - 3s 14ms/step - loss: 0.0825 - val_loss: 0.0820\n",
            "Epoch 55/75\n",
            "235/235 [==============================] - 3s 15ms/step - loss: 0.0824 - val_loss: 0.0821\n",
            "Epoch 56/75\n",
            "235/235 [==============================] - 3s 15ms/step - loss: 0.0822 - val_loss: 0.0816\n",
            "Epoch 57/75\n",
            "235/235 [==============================] - 3s 14ms/step - loss: 0.0821 - val_loss: 0.0819\n",
            "Epoch 58/75\n",
            "235/235 [==============================] - 3s 14ms/step - loss: 0.0821 - val_loss: 0.0817\n",
            "Epoch 59/75\n",
            "235/235 [==============================] - 3s 14ms/step - loss: 0.0819 - val_loss: 0.0816\n",
            "Epoch 60/75\n",
            "235/235 [==============================] - 3s 14ms/step - loss: 0.0820 - val_loss: 0.0816\n",
            "Epoch 61/75\n",
            "235/235 [==============================] - 3s 15ms/step - loss: 0.0818 - val_loss: 0.0817\n",
            "Epoch 62/75\n",
            "235/235 [==============================] - 3s 14ms/step - loss: 0.0818 - val_loss: 0.0812\n",
            "Epoch 63/75\n",
            "235/235 [==============================] - 3s 14ms/step - loss: 0.0819 - val_loss: 0.0815\n",
            "Epoch 64/75\n",
            "235/235 [==============================] - 3s 14ms/step - loss: 0.0818 - val_loss: 0.0813\n",
            "Epoch 65/75\n",
            "235/235 [==============================] - 3s 14ms/step - loss: 0.0816 - val_loss: 0.0812\n",
            "Epoch 66/75\n",
            "235/235 [==============================] - 3s 14ms/step - loss: 0.0816 - val_loss: 0.0813\n",
            "Epoch 67/75\n",
            "235/235 [==============================] - 3s 14ms/step - loss: 0.0813 - val_loss: 0.0816\n",
            "Epoch 68/75\n",
            "235/235 [==============================] - 3s 14ms/step - loss: 0.0816 - val_loss: 0.0813\n",
            "Epoch 69/75\n",
            "235/235 [==============================] - 3s 14ms/step - loss: 0.0815 - val_loss: 0.0813\n",
            "Epoch 70/75\n",
            "235/235 [==============================] - 3s 14ms/step - loss: 0.0813 - val_loss: 0.0811\n",
            "Epoch 71/75\n",
            "235/235 [==============================] - 3s 14ms/step - loss: 0.0814 - val_loss: 0.0809\n",
            "Epoch 72/75\n",
            "235/235 [==============================] - 3s 14ms/step - loss: 0.0812 - val_loss: 0.0809\n",
            "Epoch 73/75\n",
            "235/235 [==============================] - 3s 14ms/step - loss: 0.0811 - val_loss: 0.0808\n",
            "Epoch 74/75\n",
            "235/235 [==============================] - 3s 14ms/step - loss: 0.0811 - val_loss: 0.0811\n",
            "Epoch 75/75\n",
            "235/235 [==============================] - 3s 14ms/step - loss: 0.0813 - val_loss: 0.0807\n"
          ],
          "name": "stdout"
        },
        {
          "output_type": "execute_result",
          "data": {
            "text/plain": [
              "<tensorflow.python.keras.callbacks.History at 0x7f8abdc59990>"
            ]
          },
          "metadata": {
            "tags": []
          },
          "execution_count": 12
        }
      ]
    },
    {
      "cell_type": "code",
      "metadata": {
        "colab": {
          "base_uri": "https://localhost:8080/",
          "height": 166
        },
        "id": "D6jW-Cv7QVzD",
        "outputId": "36d1a592-1602-499a-cbbb-7a4f1b823f83"
      },
      "source": [
        "# Encode and decode some digits\r\n",
        "# Note that we take them from the *test* set\r\n",
        "encoded_imgs = encoder.predict(x_test)\r\n",
        "decoded_imgs = decoder.predict(encoded_imgs)\r\n",
        "\r\n",
        "#Display for the \"deep\" encoder\r\n",
        "n = 10  # How many digits we will display\r\n",
        "plt.figure(figsize=(20, 4))\r\n",
        "for i in range(n):\r\n",
        "    # Display original\r\n",
        "    ax = plt.subplot(2, n, i + 1)\r\n",
        "    plt.imshow(x_test[i].reshape(28, 28))\r\n",
        "    plt.gray()\r\n",
        "    ax.get_xaxis().set_visible(False)\r\n",
        "    ax.get_yaxis().set_visible(False)\r\n",
        "\r\n",
        "    # Display reconstruction\r\n",
        "    ax = plt.subplot(2, n, i + 1 + n)\r\n",
        "    plt.imshow(decoded_imgs[i].reshape(28, 28))\r\n",
        "    plt.gray()\r\n",
        "    ax.get_xaxis().set_visible(False)\r\n",
        "    ax.get_yaxis().set_visible(False)\r\n",
        "plt.show()"
      ],
      "execution_count": 13,
      "outputs": [
        {
          "output_type": "display_data",
          "data": {
            "image/png": "[encoded data removed]",
            "text/plain": [
              "<Figure size 1440x288 with 20 Axes>"
            ]
          },
          "metadata": {
            "tags": [],
            "needs_background": "light"
          }
        }
      ]
    },
    {
      "cell_type": "code",
      "metadata": {
        "id": "30plPPDqQ3Ss"
      },
      "source": [
        "#Next, we'll look at a \"convolutional\" autoencoder\r\n",
        "#This makes more sense because our data is image data\r\n",
        "input_img = keras.Input(shape=(28, 28, 1))\r\n",
        "\r\n",
        "x = layers.Conv2D(16, (3, 3), activation='relu', padding='same')(input_img)\r\n",
        "x = layers.MaxPooling2D((2, 2), padding='same')(x)\r\n",
        "x = layers.Conv2D(8, (3, 3), activation='relu', padding='same')(x)\r\n",
        "x = layers.MaxPooling2D((2, 2), padding='same')(x)\r\n",
        "x = layers.Conv2D(8, (3, 3), activation='relu', padding='same')(x)\r\n",
        "encoded = layers.MaxPooling2D((2, 2), padding='same')(x)\r\n",
        "\r\n",
        "# at this point the representation is (4, 4, 8) i.e. 128-dimensional\r\n",
        "\r\n",
        "x = layers.Conv2D(8, (3, 3), activation='relu', padding='same')(encoded)\r\n",
        "x = layers.UpSampling2D((2, 2))(x)\r\n",
        "x = layers.Conv2D(8, (3, 3), activation='relu', padding='same')(x)\r\n",
        "x = layers.UpSampling2D((2, 2))(x)\r\n",
        "x = layers.Conv2D(16, (3, 3), activation='relu')(x)\r\n",
        "x = layers.UpSampling2D((2, 2))(x)\r\n",
        "decoded = layers.Conv2D(1, (3, 3), activation='sigmoid', padding='same')(x)\r\n",
        "\r\n",
        "autoencoder = keras.Model(input_img, decoded)\r\n",
        "autoencoder.compile(optimizer='adam', loss='binary_crossentropy')"
      ],
      "execution_count": 14,
      "outputs": []
    },
    {
      "cell_type": "code",
      "metadata": {
        "id": "SmNPmbVWRJUn"
      },
      "source": [
        "#Reload the MNIST data without flattening it\r\n",
        "#We can't flatten it because we want to use convolutional networks\r\n",
        "from keras.datasets import mnist\r\n",
        "import numpy as np\r\n",
        "\r\n",
        "(x_train, _), (x_test, _) = mnist.load_data()\r\n",
        "\r\n",
        "x_train = x_train.astype('float32') / 255.\r\n",
        "x_test = x_test.astype('float32') / 255.\r\n",
        "x_train = np.reshape(x_train, (len(x_train), 28, 28, 1))\r\n",
        "x_test = np.reshape(x_test, (len(x_test), 28, 28, 1))"
      ],
      "execution_count": 15,
      "outputs": []
    },
    {
      "cell_type": "code",
      "metadata": {
        "colab": {
          "base_uri": "https://localhost:8080/"
        },
        "id": "U3PvltHhRZxM",
        "outputId": "e3cfb5f4-e013-4888-e812-5d7992ff33a3"
      },
      "source": [
        "#In the article, they use tensorboard for callbacks, but that won't work for some reason\r\n",
        "#We're just going to train the model as it is\r\n",
        "#I'm also cutting the epochs from 50 to 10 because I'm saving time on this example exercise\r\n",
        "#In a real situation, it'd be better to run the 50 epochs here\r\n",
        "#tensorboard --logdir=/tmp/autoencoder\r\n",
        "\r\n",
        "from keras.callbacks import TensorBoard\r\n",
        "\r\n",
        "autoencoder.fit(x_train, x_train,\r\n",
        "                epochs=10,\r\n",
        "                batch_size=128,\r\n",
        "                shuffle=True,\r\n",
        "                validation_data=(x_test, x_test),\r\n",
        "                #callbacks=[TensorBoard(log_dir='/tmp/autoencoder')]\r\n",
        "                )"
      ],
      "execution_count": 18,
      "outputs": [
        {
          "output_type": "stream",
          "text": [
            "Epoch 1/10\n",
            "469/469 [==============================] - 87s 186ms/step - loss: 0.1802 - val_loss: 0.1398\n",
            "Epoch 2/10\n",
            "469/469 [==============================] - 87s 187ms/step - loss: 0.1315 - val_loss: 0.1233\n",
            "Epoch 3/10\n",
            "469/469 [==============================] - 87s 186ms/step - loss: 0.1209 - val_loss: 0.1162\n",
            "Epoch 4/10\n",
            "469/469 [==============================] - 87s 186ms/step - loss: 0.1151 - val_loss: 0.1114\n",
            "Epoch 5/10\n",
            "469/469 [==============================] - 87s 187ms/step - loss: 0.1109 - val_loss: 0.1085\n",
            "Epoch 6/10\n",
            "469/469 [==============================] - 87s 187ms/step - loss: 0.1079 - val_loss: 0.1055\n",
            "Epoch 7/10\n",
            "469/469 [==============================] - 88s 187ms/step - loss: 0.1057 - val_loss: 0.1041\n",
            "Epoch 8/10\n",
            "469/469 [==============================] - 88s 187ms/step - loss: 0.1041 - val_loss: 0.1027\n",
            "Epoch 9/10\n",
            "469/469 [==============================] - 88s 188ms/step - loss: 0.1028 - val_loss: 0.1013\n",
            "Epoch 10/10\n",
            "469/469 [==============================] - 88s 187ms/step - loss: 0.1016 - val_loss: 0.1000\n"
          ],
          "name": "stdout"
        },
        {
          "output_type": "execute_result",
          "data": {
            "text/plain": [
              "<tensorflow.python.keras.callbacks.History at 0x7f8abc288ad0>"
            ]
          },
          "metadata": {
            "tags": []
          },
          "execution_count": 18
        }
      ]
    },
    {
      "cell_type": "code",
      "metadata": {
        "colab": {
          "base_uri": "https://localhost:8080/",
          "height": 248
        },
        "id": "LWNmbhBvSC6z",
        "outputId": "021b7362-e885-4450-f627-424150cf14f4"
      },
      "source": [
        "#Now, let's look at some of the reconstructed digits compared to the originals\r\n",
        "decoded_imgs = autoencoder.predict(x_test)\r\n",
        "\r\n",
        "n = 10\r\n",
        "plt.figure(figsize=(20, 4))\r\n",
        "for i in range(1, n + 1):\r\n",
        "    # Display original\r\n",
        "    ax = plt.subplot(2, n, i)\r\n",
        "    plt.imshow(x_test[i].reshape(28, 28))\r\n",
        "    plt.gray()\r\n",
        "    ax.get_xaxis().set_visible(False)\r\n",
        "    ax.get_yaxis().set_visible(False)\r\n",
        "\r\n",
        "    # Display reconstruction\r\n",
        "    ax = plt.subplot(2, n, i + n)\r\n",
        "    plt.imshow(decoded_imgs[i].reshape(28, 28))\r\n",
        "    plt.gray()\r\n",
        "    ax.get_xaxis().set_visible(False)\r\n",
        "    ax.get_yaxis().set_visible(False)\r\n",
        "plt.show()"
      ],
      "execution_count": 19,
      "outputs": [
        {
          "output_type": "display_data",
          "data": {
            "image/png": "[encoded data removed]",
            "text/plain": [
              "<Figure size 1440x288 with 20 Axes>"
            ]
          },
          "metadata": {
            "tags": [],
            "needs_background": "light"
          }
        }
      ]
    },
    {
      "cell_type": "code",
      "metadata": {
        "colab": {
          "base_uri": "https://localhost:8080/",
          "height": 469
        },
        "id": "IXOzfqtZSOj9",
        "outputId": "29de59cf-1ed0-4c51-bf28-2e4b2da98ce4"
      },
      "source": [
        "#128 dimensional encoded representations of our images\r\n",
        "encoder = keras.Model(input_img, encoded)\r\n",
        "encoded_imgs = encoder.predict(x_test)\r\n",
        "\r\n",
        "n = 10\r\n",
        "plt.figure(figsize=(20, 8))\r\n",
        "for i in range(1, n + 1):\r\n",
        "    ax = plt.subplot(1, n, i)\r\n",
        "    plt.imshow(encoded_imgs[i].reshape((4, 4 * 8)).T)\r\n",
        "    plt.gray()\r\n",
        "    ax.get_xaxis().set_visible(False)\r\n",
        "    ax.get_yaxis().set_visible(False)\r\n",
        "plt.show()"
      ],
      "execution_count": 20,
      "outputs": [
        {
          "output_type": "display_data",
          "data": {
            "image/png": "[encoded data removed]",
            "text/plain": [
              "<Figure size 1440x576 with 10 Axes>"
            ]
          },
          "metadata": {
            "tags": [],
            "needs_background": "light"
          }
        }
      ]
    },
    {
      "cell_type": "markdown",
      "metadata": {
        "id": "CEjUejSiSbwb"
      },
      "source": [
        "#### Image Denoising Application\r\n",
        "One of the most useful applications of autoencoders is in denoising images (mapping from noisy images to clean images)"
      ]
    },
    {
      "cell_type": "code",
      "metadata": {
        "colab": {
          "base_uri": "https://localhost:8080/",
          "height": 129
        },
        "id": "igJlgMrbSpB0",
        "outputId": "6a4aa1f9-7957-4cff-942f-52c57d3d191f"
      },
      "source": [
        "from keras.datasets import mnist\r\n",
        "import numpy as np\r\n",
        "\r\n",
        "(x_train, _), (x_test, _) = mnist.load_data()\r\n",
        "\r\n",
        "x_train = x_train.astype('float32') / 255.\r\n",
        "x_test = x_test.astype('float32') / 255.\r\n",
        "x_train = np.reshape(x_train, (len(x_train), 28, 28, 1))\r\n",
        "x_test = np.reshape(x_test, (len(x_test), 28, 28, 1))\r\n",
        "\r\n",
        "noise_factor = 0.5\r\n",
        "x_train_noisy = x_train + noise_factor * np.random.normal(loc=0.0, scale=1.0, size=x_train.shape) \r\n",
        "x_test_noisy = x_test + noise_factor * np.random.normal(loc=0.0, scale=1.0, size=x_test.shape) \r\n",
        "\r\n",
        "x_train_noisy = np.clip(x_train_noisy, 0., 1.)\r\n",
        "x_test_noisy = np.clip(x_test_noisy, 0., 1.)\r\n",
        "\r\n",
        "n = 10\r\n",
        "plt.figure(figsize=(20, 2))\r\n",
        "for i in range(1, n + 1):\r\n",
        "    ax = plt.subplot(1, n, i)\r\n",
        "    plt.imshow(x_test_noisy[i].reshape(28, 28))\r\n",
        "    plt.gray()\r\n",
        "    ax.get_xaxis().set_visible(False)\r\n",
        "    ax.get_yaxis().set_visible(False)\r\n",
        "plt.show()"
      ],
      "execution_count": 21,
      "outputs": [
        {
          "output_type": "display_data",
          "data": {
            "image/png": "[encoded data removed]",
            "text/plain": [
              "<Figure size 1440x144 with 10 Axes>"
            ]
          },
          "metadata": {
            "tags": [],
            "needs_background": "light"
          }
        }
      ]
    },
    {
      "cell_type": "code",
      "metadata": {
        "colab": {
          "base_uri": "https://localhost:8080/"
        },
        "id": "J4hI7Ol3SwAL",
        "outputId": "cf0336ac-2168-45d2-e830-a9782832016b"
      },
      "source": [
        "#We're going to use a slightly different model than the other convolutional model above\r\n",
        "#As before, I cut the number of epochs because this is practice\r\n",
        "#This time, we'll use 10 epochs rather than 100\r\n",
        "\r\n",
        "input_img = keras.Input(shape=(28, 28, 1))\r\n",
        "\r\n",
        "x = layers.Conv2D(32, (3, 3), activation='relu', padding='same')(input_img)\r\n",
        "x = layers.MaxPooling2D((2, 2), padding='same')(x)\r\n",
        "x = layers.Conv2D(32, (3, 3), activation='relu', padding='same')(x)\r\n",
        "encoded = layers.MaxPooling2D((2, 2), padding='same')(x)\r\n",
        "\r\n",
        "# At this point the representation is (7, 7, 32)\r\n",
        "\r\n",
        "x = layers.Conv2D(32, (3, 3), activation='relu', padding='same')(encoded)\r\n",
        "x = layers.UpSampling2D((2, 2))(x)\r\n",
        "x = layers.Conv2D(32, (3, 3), activation='relu', padding='same')(x)\r\n",
        "x = layers.UpSampling2D((2, 2))(x)\r\n",
        "decoded = layers.Conv2D(1, (3, 3), activation='sigmoid', padding='same')(x)\r\n",
        "\r\n",
        "autoencoder = keras.Model(input_img, decoded)\r\n",
        "autoencoder.compile(optimizer='adam', loss='binary_crossentropy')\r\n",
        "\r\n",
        "autoencoder.fit(x_train_noisy, x_train,\r\n",
        "                epochs=10,\r\n",
        "                batch_size=128,\r\n",
        "                shuffle=True,\r\n",
        "                validation_data=(x_test_noisy, x_test),\r\n",
        "                #callbacks=[TensorBoard(log_dir='/tmp/tb', histogram_freq=0, write_graph=False)]\r\n",
        "                )"
      ],
      "execution_count": 23,
      "outputs": [
        {
          "output_type": "stream",
          "text": [
            "Epoch 1/10\n",
            "469/469 [==============================] - 159s 338ms/step - loss: 0.2621 - val_loss: 0.1165\n",
            "Epoch 2/10\n",
            "469/469 [==============================] - 159s 338ms/step - loss: 0.1153 - val_loss: 0.1093\n",
            "Epoch 3/10\n",
            "469/469 [==============================] - 159s 338ms/step - loss: 0.1086 - val_loss: 0.1052\n",
            "Epoch 4/10\n",
            "469/469 [==============================] - 158s 337ms/step - loss: 0.1055 - val_loss: 0.1028\n",
            "Epoch 5/10\n",
            "469/469 [==============================] - 158s 337ms/step - loss: 0.1035 - val_loss: 0.1014\n",
            "Epoch 6/10\n",
            "469/469 [==============================] - 158s 336ms/step - loss: 0.1023 - val_loss: 0.1007\n",
            "Epoch 7/10\n",
            "469/469 [==============================] - 159s 339ms/step - loss: 0.1012 - val_loss: 0.0994\n",
            "Epoch 8/10\n",
            "469/469 [==============================] - 158s 337ms/step - loss: 0.1003 - val_loss: 0.0988\n",
            "Epoch 9/10\n",
            "469/469 [==============================] - 158s 336ms/step - loss: 0.0995 - val_loss: 0.0983\n",
            "Epoch 10/10\n",
            "469/469 [==============================] - 157s 336ms/step - loss: 0.0991 - val_loss: 0.0977\n"
          ],
          "name": "stdout"
        },
        {
          "output_type": "execute_result",
          "data": {
            "text/plain": [
              "<tensorflow.python.keras.callbacks.History at 0x7f8ab7902a10>"
            ]
          },
          "metadata": {
            "tags": []
          },
          "execution_count": 23
        }
      ]
    }
  ]
}