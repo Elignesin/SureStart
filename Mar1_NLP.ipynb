{
  "nbformat": 4,
  "nbformat_minor": 0,
  "metadata": {
    "colab": {
      "name": "Mar1_NLP.ipynb",
      "provenance": [],
      "collapsed_sections": [],
      "authorship_tag": "ABX9TyNtd/ohbi1VhNQ8KSmZs0mU",
      "include_colab_link": true
    },
    "kernelspec": {
      "name": "python3",
      "display_name": "Python 3"
    }
  },
  "cells": [
    {
      "cell_type": "markdown",
      "metadata": {
        "id": "view-in-github",
        "colab_type": "text"
      },
      "source": [
        "<a href=\"https://colab.research.google.com/github/Elignesin/SureStart/blob/main/Mar1_NLP.ipynb\" target=\"_parent\"><img src=\"https://colab.research.google.com/assets/colab-badge.svg\" alt=\"Open In Colab\"/></a>"
      ]
    },
    {
      "cell_type": "markdown",
      "metadata": {
        "id": "epuIIYFO457C"
      },
      "source": [
        "#### Natural Language Processing\r\n",
        "\r\n",
        "This notebook contains a basic example for understanding Natural Language Processing, specificall through the use of Language Identification with fastText. The notebook is modeled off of https://towardsdatascience.com/a-list-of-beginner-friendly-nlp-projects-using-pre-trained-models-dc4768b4bec0 and https://medium.com/@calebkaiser/how-to-actually-use-ml-in-production-text-classification-1e27bb5ac64d."
      ]
    },
    {
      "cell_type": "code",
      "metadata": {
        "id": "ard0kc4v43Ul"
      },
      "source": [
        "#Install necessary libraries\r\n",
        "!pip install wget\r\n",
        "!pip install fasttext\r\n",
        "!pip install cortex"
      ],
      "execution_count": null,
      "outputs": []
    },
    {
      "cell_type": "code",
      "metadata": {
        "id": "H7mfBDhE6cGr"
      },
      "source": [
        "import wget\r\n",
        "import fasttext\r\n",
        "import cortex"
      ],
      "execution_count": 4,
      "outputs": []
    },
    {
      "cell_type": "code",
      "metadata": {
        "id": "r7DpER5963rH"
      },
      "source": [
        "#Create our basic predictor class\r\n",
        "class PythonPredictor:\r\n",
        "    def __init__(self, config):\r\n",
        "        wget.download(\r\n",
        "            \"https://dl.fbaipublicfiles.com/fasttext/supervised-models/lid.176.bin\", \"model\"\r\n",
        "        )\r\n",
        "\r\n",
        "        self.model = fasttext.load_model(\"model\")\r\n",
        "\r\n",
        "    def predict(self, payload):\r\n",
        "        prediction = self.model.predict(payload[\"text\"])\r\n",
        "        language = prediction[0][0][-2:]\r\n",
        "        return language"
      ],
      "execution_count": 5,
      "outputs": []
    },
    {
      "cell_type": "code",
      "metadata": {
        "colab": {
          "base_uri": "https://localhost:8080/",
          "height": 182
        },
        "id": "tV-BevHx68Jw",
        "outputId": "1b43e754-32a5-4065-9e97-7301cbd4a5b9"
      },
      "source": [
        "#At this point we would need to create a cortex.yaml file\r\n",
        "#I've done this on my local machine, and the file says this:\r\n",
        "\r\n",
        "# text_generator.yaml\r\n",
        "- name: text-generator\r\n",
        "  kind: RealtimeAPI\r\n",
        "  predictor:\r\n",
        "    type: python\r\n",
        "    path: predictor.py\r\n",
        "  compute:\r\n",
        "    gpu: 1\r\n",
        "    mem: 8Gi\r\n",
        "  autoscaling:\r\n",
        "    min_replicas: 1\r\n",
        "    max_replicas: 10\r\n",
        "\r\n",
        "\r\n",
        "#After doing this, we can deploy our basic model using \"$ cortex deploy text_generator.yaml\""
      ],
      "execution_count": 6,
      "outputs": [
        {
          "output_type": "error",
          "ename": "TypeError",
          "evalue": "ignored",
          "traceback": [
            "\u001b[0;31m---------------------------------------------------------------------------\u001b[0m",
            "\u001b[0;31mTypeError\u001b[0m                                 Traceback (most recent call last)",
            "\u001b[0;32m<ipython-input-6-9de6f6472d74>\u001b[0m in \u001b[0;36m<module>\u001b[0;34m()\u001b[0m\n\u001b[1;32m      1\u001b[0m \u001b[0;31m#Call an instance of this class\u001b[0m\u001b[0;34m\u001b[0m\u001b[0;34m\u001b[0m\u001b[0;34m\u001b[0m\u001b[0m\n\u001b[0;32m----> 2\u001b[0;31m \u001b[0mpred\u001b[0m \u001b[0;34m=\u001b[0m \u001b[0mPythonPredictor\u001b[0m\u001b[0;34m(\u001b[0m\u001b[0;34m)\u001b[0m\u001b[0;34m\u001b[0m\u001b[0;34m\u001b[0m\u001b[0m\n\u001b[0m",
            "\u001b[0;31mTypeError\u001b[0m: __init__() missing 1 required positional argument: 'config'"
          ]
        }
      ]
    }
  ]
}