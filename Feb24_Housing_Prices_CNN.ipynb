{
  "nbformat": 4,
  "nbformat_minor": 0,
  "metadata": {
    "colab": {
      "name": "Feb24_Housing_Prices_CNN.ipynb",
      "provenance": [],
      "collapsed_sections": [],
      "authorship_tag": "ABX9TyO/6xDWdAed/Syqd5TU1kRw",
      "include_colab_link": true
    },
    "kernelspec": {
      "name": "python3",
      "display_name": "Python 3"
    }
  },
  "cells": [
    {
      "cell_type": "markdown",
      "metadata": {
        "id": "view-in-github",
        "colab_type": "text"
      },
      "source": [
        "<a href=\"https://colab.research.google.com/github/Elignesin/SureStart/blob/main/Feb24_Housing_Prices_CNN.ipynb\" target=\"_parent\"><img src=\"https://colab.research.google.com/assets/colab-badge.svg\" alt=\"Open In Colab\"/></a>"
      ]
    },
    {
      "cell_type": "markdown",
      "metadata": {
        "id": "YbyyirXwtuxL"
      },
      "source": [
        "### Housing Prices CNN\r\n",
        "This notebook will be used to build a basic Neural Network for predicting whether house prices are above or below the \"median\" price. The data for the notebook was provided by the Surestart team. This notebook is lightly modeled off of https://hackernoon.com/build-your-first-neural-network-to-predict-house-prices-with-keras-3fb0839680f4 (data can also be found in this article)."
      ]
    },
    {
      "cell_type": "code",
      "metadata": {
        "id": "H13GdAw6tpKb"
      },
      "source": [
        "#Import the necessary libraries\r\n",
        "import pandas as pd\r\n",
        "import numpy as np\r\n",
        "import matplotlib.pyplot as plt\r\n",
        "import seaborn as sns\r\n",
        "import tensorflow\r\n",
        "from tensorflow import keras\r\n",
        "from keras import layers\r\n",
        "from keras.models import Sequential\r\n",
        "from keras.layers import Dense\r\n",
        "from keras.optimizers import Adam, SGD\r\n",
        "from keras.losses import mae, mse, binary_crossentropy\r\n",
        "from sklearn.model_selection import train_test_split as tts\r\n",
        "from sklearn import preprocessing\r\n",
        "from sklearn.metrics import confusion_matrix"
      ],
      "execution_count": 1,
      "outputs": []
    },
    {
      "cell_type": "code",
      "metadata": {
        "colab": {
          "base_uri": "https://localhost:8080/"
        },
        "id": "T0Ojru6_u6wB",
        "outputId": "94a1d711-e68f-4f1d-cae0-94a0d155564d"
      },
      "source": [
        "#We now read in the data and look at it's shape and head\r\n",
        "data = pd.read_csv('housepricedata.csv')\r\n",
        "print(data.shape)\r\n",
        "print(data.head())\r\n",
        "\r\n",
        "#We also want to convert the data into an array for ease of use\r\n",
        "dataset = data.values"
      ],
      "execution_count": 2,
      "outputs": [
        {
          "output_type": "stream",
          "text": [
            "(1460, 11)\n",
            "   LotArea  OverallQual  OverallCond  ...  Fireplaces  GarageArea  AboveMedianPrice\n",
            "0     8450            7            5  ...           0         548                 1\n",
            "1     9600            6            8  ...           1         460                 1\n",
            "2    11250            7            5  ...           1         608                 1\n",
            "3     9550            7            5  ...           1         642                 0\n",
            "4    14260            8            5  ...           1         836                 1\n",
            "\n",
            "[5 rows x 11 columns]\n"
          ],
          "name": "stdout"
        }
      ]
    },
    {
      "cell_type": "code",
      "metadata": {
        "id": "lviGN2Wp0XtN"
      },
      "source": [
        "#Now we're going to split our X and y out of our dataset\r\n",
        "#X will be the first 10 columns, and y will be the \"median price\" column\r\n",
        "\r\n",
        "X = dataset[:,:10]\r\n",
        "y = dataset[:,10]"
      ],
      "execution_count": 3,
      "outputs": []
    },
    {
      "cell_type": "code",
      "metadata": {
        "colab": {
          "base_uri": "https://localhost:8080/"
        },
        "id": "rlK1tNiH07tn",
        "outputId": "e970a961-f85f-46cd-aae3-9c26d4314cc1"
      },
      "source": [
        "#Next, we're going to standardize our X data\r\n",
        "#This ensures our model won't be too heavily fit on LotArea and GarageArea, which are orders of magnitude larger than the other variables\r\n",
        "#We'll use a min_max scaler, which scales data between 0 and 1 based on the min and max values\r\n",
        "minmax = preprocessing.MinMaxScaler()\r\n",
        "X_scaled = minmax.fit_transform(X)\r\n",
        "X_scaled[:5]"
      ],
      "execution_count": 4,
      "outputs": [
        {
          "output_type": "execute_result",
          "data": {
            "text/plain": [
              "array([[0.0334198 , 0.66666667, 0.5       , 0.1400982 , 0.66666667,\n",
              "        0.5       , 0.375     , 0.5       , 0.        , 0.3864598 ],\n",
              "       [0.03879502, 0.55555556, 0.875     , 0.20654664, 0.66666667,\n",
              "        0.        , 0.375     , 0.33333333, 0.33333333, 0.32440056],\n",
              "       [0.04650728, 0.66666667, 0.5       , 0.15057283, 0.66666667,\n",
              "        0.5       , 0.375     , 0.33333333, 0.33333333, 0.42877292],\n",
              "       [0.03856131, 0.66666667, 0.5       , 0.12373159, 0.33333333,\n",
              "        0.        , 0.375     , 0.41666667, 0.33333333, 0.45275035],\n",
              "       [0.06057632, 0.77777778, 0.5       , 0.18739771, 0.66666667,\n",
              "        0.5       , 0.5       , 0.58333333, 0.33333333, 0.58956276]])"
            ]
          },
          "metadata": {
            "tags": []
          },
          "execution_count": 4
        }
      ]
    },
    {
      "cell_type": "code",
      "metadata": {
        "colab": {
          "base_uri": "https://localhost:8080/"
        },
        "id": "Rr9pAaye1bY5",
        "outputId": "eac99103-4023-48f2-9ec6-cff8505eb951"
      },
      "source": [
        "#Split the data into training, testing, and validation datasets\r\n",
        "\r\n",
        "#Split off the training data from the rest of the data\r\n",
        "X_train, X_valtest, y_train, y_valtest = tts(X_scaled, y, test_size = 0.25, random_state=1693)\r\n",
        "\r\n",
        "#Split the test and validation datasets\r\n",
        "X_test, X_val, y_test, y_val = tts(X_valtest, y_valtest, test_size = .5, random_state=1693)\r\n",
        "\r\n",
        "print(f\"Training Set: {X_train.shape}, {y_train.shape}\")\r\n",
        "print(f\"Validation Set: {X_val.shape}, {y_val.shape}\")\r\n",
        "print(f\"Testing Set: {X_test.shape}, {y_test.shape}\")"
      ],
      "execution_count": 5,
      "outputs": [
        {
          "output_type": "stream",
          "text": [
            "Training Set: (1095, 10), (1095,)\n",
            "Validation Set: (183, 10), (183,)\n",
            "Testing Set: (182, 10), (182,)\n"
          ],
          "name": "stdout"
        }
      ]
    },
    {
      "cell_type": "code",
      "metadata": {
        "colab": {
          "base_uri": "https://localhost:8080/"
        },
        "id": "kGCQgSNj2Jkd",
        "outputId": "ab0362ca-0252-44a0-c4b7-362332c10039"
      },
      "source": [
        "#For this neural network, we're not going to use convolutional layers (there isn't enough input data to bother here)\r\n",
        "#Instead, we'll use 3 dense layers, getting gradually smaller\r\n",
        "\r\n",
        "#Initialize the model\r\n",
        "model = Sequential()\r\n",
        "#Add first dense layer\r\n",
        "model.add(Dense(32, activation='relu', input_shape = (10, )))\r\n",
        "#Add second dense layer\r\n",
        "model.add(Dense(32, activation= 'relu'))\r\n",
        "#Add third dense layer\r\n",
        "model.add(Dense(16, activation='relu'))\r\n",
        "#Add output layer (using sigmoid activation because this is a binary classification)\r\n",
        "model.add(Dense(1, activation='sigmoid'))\r\n",
        "#Summarize the model\r\n",
        "model.summary()"
      ],
      "execution_count": 6,
      "outputs": [
        {
          "output_type": "stream",
          "text": [
            "Model: \"sequential\"\n",
            "_________________________________________________________________\n",
            "Layer (type)                 Output Shape              Param #   \n",
            "=================================================================\n",
            "dense (Dense)                (None, 32)                352       \n",
            "_________________________________________________________________\n",
            "dense_1 (Dense)              (None, 32)                1056      \n",
            "_________________________________________________________________\n",
            "dense_2 (Dense)              (None, 16)                528       \n",
            "_________________________________________________________________\n",
            "dense_3 (Dense)              (None, 1)                 17        \n",
            "=================================================================\n",
            "Total params: 1,953\n",
            "Trainable params: 1,953\n",
            "Non-trainable params: 0\n",
            "_________________________________________________________________\n"
          ],
          "name": "stdout"
        }
      ]
    },
    {
      "cell_type": "code",
      "metadata": {
        "id": "6-zO3HPr2_Hx"
      },
      "source": [
        "#We're going to choose SGD as our optimizer\r\n",
        "opt = SGD()\r\n",
        "\r\n",
        "#The instructions say to use mean_squared_error as the loss (but I think this should be binary crossentropy instead)\r\n",
        "\r\n",
        "#Compile the model\r\n",
        "model.compile(optimizer = opt, loss = 'mean_squared_error', metrics=['accuracy'])"
      ],
      "execution_count": 7,
      "outputs": []
    },
    {
      "cell_type": "code",
      "metadata": {
        "colab": {
          "base_uri": "https://localhost:8080/"
        },
        "id": "YkqsWtK53wIn",
        "outputId": "6c890c98-05b3-4cbe-c9cf-ea28076ad321"
      },
      "source": [
        "#Fit the model\r\n",
        "batch_size=32\r\n",
        "epochs=80\r\n",
        "history = model.fit(X_train, y_train, batch_size=batch_size, epochs=epochs, verbose=1,\r\n",
        "          validation_data = (X_val, y_val))"
      ],
      "execution_count": 8,
      "outputs": [
        {
          "output_type": "stream",
          "text": [
            "Epoch 1/80\n",
            "35/35 [==============================] - 1s 15ms/step - loss: 0.2511 - accuracy: 0.5119 - val_loss: 0.2548 - val_accuracy: 0.4536\n",
            "Epoch 2/80\n",
            "35/35 [==============================] - 0s 2ms/step - loss: 0.2514 - accuracy: 0.5007 - val_loss: 0.2538 - val_accuracy: 0.4536\n",
            "Epoch 3/80\n",
            "35/35 [==============================] - 0s 2ms/step - loss: 0.2502 - accuracy: 0.5155 - val_loss: 0.2529 - val_accuracy: 0.4536\n",
            "Epoch 4/80\n",
            "35/35 [==============================] - 0s 2ms/step - loss: 0.2495 - accuracy: 0.5213 - val_loss: 0.2520 - val_accuracy: 0.4536\n",
            "Epoch 5/80\n",
            "35/35 [==============================] - 0s 3ms/step - loss: 0.2500 - accuracy: 0.4878 - val_loss: 0.2511 - val_accuracy: 0.4536\n",
            "Epoch 6/80\n",
            "35/35 [==============================] - 0s 2ms/step - loss: 0.2486 - accuracy: 0.5085 - val_loss: 0.2503 - val_accuracy: 0.4536\n",
            "Epoch 7/80\n",
            "35/35 [==============================] - 0s 2ms/step - loss: 0.2484 - accuracy: 0.5144 - val_loss: 0.2497 - val_accuracy: 0.4536\n",
            "Epoch 8/80\n",
            "35/35 [==============================] - 0s 2ms/step - loss: 0.2482 - accuracy: 0.5100 - val_loss: 0.2489 - val_accuracy: 0.4918\n",
            "Epoch 9/80\n",
            "35/35 [==============================] - 0s 2ms/step - loss: 0.2474 - accuracy: 0.5747 - val_loss: 0.2477 - val_accuracy: 0.6175\n",
            "Epoch 10/80\n",
            "35/35 [==============================] - 0s 2ms/step - loss: 0.2467 - accuracy: 0.6376 - val_loss: 0.2458 - val_accuracy: 0.7104\n",
            "Epoch 11/80\n",
            "35/35 [==============================] - 0s 2ms/step - loss: 0.2452 - accuracy: 0.7193 - val_loss: 0.2435 - val_accuracy: 0.7760\n",
            "Epoch 12/80\n",
            "35/35 [==============================] - 0s 2ms/step - loss: 0.2436 - accuracy: 0.7704 - val_loss: 0.2419 - val_accuracy: 0.7869\n",
            "Epoch 13/80\n",
            "35/35 [==============================] - 0s 2ms/step - loss: 0.2424 - accuracy: 0.7644 - val_loss: 0.2408 - val_accuracy: 0.7814\n",
            "Epoch 14/80\n",
            "35/35 [==============================] - 0s 2ms/step - loss: 0.2418 - accuracy: 0.7461 - val_loss: 0.2399 - val_accuracy: 0.7923\n",
            "Epoch 15/80\n",
            "35/35 [==============================] - 0s 3ms/step - loss: 0.2418 - accuracy: 0.7346 - val_loss: 0.2389 - val_accuracy: 0.7978\n",
            "Epoch 16/80\n",
            "35/35 [==============================] - 0s 2ms/step - loss: 0.2406 - accuracy: 0.7746 - val_loss: 0.2381 - val_accuracy: 0.8033\n",
            "Epoch 17/80\n",
            "35/35 [==============================] - 0s 2ms/step - loss: 0.2391 - accuracy: 0.7839 - val_loss: 0.2373 - val_accuracy: 0.8142\n",
            "Epoch 18/80\n",
            "35/35 [==============================] - 0s 2ms/step - loss: 0.2391 - accuracy: 0.7663 - val_loss: 0.2365 - val_accuracy: 0.8306\n",
            "Epoch 19/80\n",
            "35/35 [==============================] - 0s 2ms/step - loss: 0.2387 - accuracy: 0.7845 - val_loss: 0.2356 - val_accuracy: 0.8361\n",
            "Epoch 20/80\n",
            "35/35 [==============================] - 0s 2ms/step - loss: 0.2377 - accuracy: 0.7892 - val_loss: 0.2350 - val_accuracy: 0.8251\n",
            "Epoch 21/80\n",
            "35/35 [==============================] - 0s 2ms/step - loss: 0.2360 - accuracy: 0.8048 - val_loss: 0.2341 - val_accuracy: 0.8361\n",
            "Epoch 22/80\n",
            "35/35 [==============================] - 0s 2ms/step - loss: 0.2373 - accuracy: 0.7809 - val_loss: 0.2331 - val_accuracy: 0.8361\n",
            "Epoch 23/80\n",
            "35/35 [==============================] - 0s 2ms/step - loss: 0.2364 - accuracy: 0.7792 - val_loss: 0.2324 - val_accuracy: 0.8306\n",
            "Epoch 24/80\n",
            "35/35 [==============================] - 0s 2ms/step - loss: 0.2340 - accuracy: 0.7979 - val_loss: 0.2316 - val_accuracy: 0.8306\n",
            "Epoch 25/80\n",
            "35/35 [==============================] - 0s 2ms/step - loss: 0.2342 - accuracy: 0.8007 - val_loss: 0.2307 - val_accuracy: 0.8306\n",
            "Epoch 26/80\n",
            "35/35 [==============================] - 0s 2ms/step - loss: 0.2332 - accuracy: 0.8113 - val_loss: 0.2297 - val_accuracy: 0.8306\n",
            "Epoch 27/80\n",
            "35/35 [==============================] - 0s 2ms/step - loss: 0.2330 - accuracy: 0.7898 - val_loss: 0.2284 - val_accuracy: 0.8415\n",
            "Epoch 28/80\n",
            "35/35 [==============================] - 0s 3ms/step - loss: 0.2313 - accuracy: 0.8187 - val_loss: 0.2274 - val_accuracy: 0.8361\n",
            "Epoch 29/80\n",
            "35/35 [==============================] - 0s 2ms/step - loss: 0.2299 - accuracy: 0.8085 - val_loss: 0.2264 - val_accuracy: 0.8306\n",
            "Epoch 30/80\n",
            "35/35 [==============================] - 0s 2ms/step - loss: 0.2285 - accuracy: 0.8233 - val_loss: 0.2251 - val_accuracy: 0.8415\n",
            "Epoch 31/80\n",
            "35/35 [==============================] - 0s 3ms/step - loss: 0.2293 - accuracy: 0.7976 - val_loss: 0.2239 - val_accuracy: 0.8415\n",
            "Epoch 32/80\n",
            "35/35 [==============================] - 0s 3ms/step - loss: 0.2280 - accuracy: 0.8100 - val_loss: 0.2231 - val_accuracy: 0.8306\n",
            "Epoch 33/80\n",
            "35/35 [==============================] - 0s 2ms/step - loss: 0.2274 - accuracy: 0.8104 - val_loss: 0.2217 - val_accuracy: 0.8306\n",
            "Epoch 34/80\n",
            "35/35 [==============================] - 0s 2ms/step - loss: 0.2248 - accuracy: 0.8128 - val_loss: 0.2206 - val_accuracy: 0.8306\n",
            "Epoch 35/80\n",
            "35/35 [==============================] - 0s 2ms/step - loss: 0.2246 - accuracy: 0.8047 - val_loss: 0.2191 - val_accuracy: 0.8306\n",
            "Epoch 36/80\n",
            "35/35 [==============================] - 0s 2ms/step - loss: 0.2213 - accuracy: 0.8383 - val_loss: 0.2179 - val_accuracy: 0.8361\n",
            "Epoch 37/80\n",
            "35/35 [==============================] - 0s 2ms/step - loss: 0.2199 - accuracy: 0.8308 - val_loss: 0.2165 - val_accuracy: 0.8361\n",
            "Epoch 38/80\n",
            "35/35 [==============================] - 0s 2ms/step - loss: 0.2203 - accuracy: 0.8102 - val_loss: 0.2147 - val_accuracy: 0.8361\n",
            "Epoch 39/80\n",
            "35/35 [==============================] - 0s 2ms/step - loss: 0.2183 - accuracy: 0.8172 - val_loss: 0.2134 - val_accuracy: 0.8361\n",
            "Epoch 40/80\n",
            "35/35 [==============================] - 0s 3ms/step - loss: 0.2180 - accuracy: 0.8103 - val_loss: 0.2116 - val_accuracy: 0.8361\n",
            "Epoch 41/80\n",
            "35/35 [==============================] - 0s 2ms/step - loss: 0.2161 - accuracy: 0.8185 - val_loss: 0.2097 - val_accuracy: 0.8361\n",
            "Epoch 42/80\n",
            "35/35 [==============================] - 0s 2ms/step - loss: 0.2147 - accuracy: 0.8131 - val_loss: 0.2080 - val_accuracy: 0.8361\n",
            "Epoch 43/80\n",
            "35/35 [==============================] - 0s 2ms/step - loss: 0.2122 - accuracy: 0.8228 - val_loss: 0.2064 - val_accuracy: 0.8415\n",
            "Epoch 44/80\n",
            "35/35 [==============================] - 0s 3ms/step - loss: 0.2098 - accuracy: 0.8273 - val_loss: 0.2043 - val_accuracy: 0.8415\n",
            "Epoch 45/80\n",
            "35/35 [==============================] - 0s 2ms/step - loss: 0.2103 - accuracy: 0.8225 - val_loss: 0.2020 - val_accuracy: 0.8361\n",
            "Epoch 46/80\n",
            "35/35 [==============================] - 0s 2ms/step - loss: 0.2062 - accuracy: 0.8241 - val_loss: 0.1998 - val_accuracy: 0.8361\n",
            "Epoch 47/80\n",
            "35/35 [==============================] - 0s 2ms/step - loss: 0.2043 - accuracy: 0.8257 - val_loss: 0.1977 - val_accuracy: 0.8361\n",
            "Epoch 48/80\n",
            "35/35 [==============================] - 0s 2ms/step - loss: 0.2033 - accuracy: 0.8062 - val_loss: 0.1958 - val_accuracy: 0.8470\n",
            "Epoch 49/80\n",
            "35/35 [==============================] - 0s 2ms/step - loss: 0.2039 - accuracy: 0.8087 - val_loss: 0.1932 - val_accuracy: 0.8361\n",
            "Epoch 50/80\n",
            "35/35 [==============================] - 0s 2ms/step - loss: 0.1995 - accuracy: 0.8265 - val_loss: 0.1910 - val_accuracy: 0.8415\n",
            "Epoch 51/80\n",
            "35/35 [==============================] - 0s 2ms/step - loss: 0.1979 - accuracy: 0.8223 - val_loss: 0.1885 - val_accuracy: 0.8415\n",
            "Epoch 52/80\n",
            "35/35 [==============================] - 0s 2ms/step - loss: 0.1979 - accuracy: 0.8023 - val_loss: 0.1861 - val_accuracy: 0.8415\n",
            "Epoch 53/80\n",
            "35/35 [==============================] - 0s 2ms/step - loss: 0.1959 - accuracy: 0.8054 - val_loss: 0.1837 - val_accuracy: 0.8470\n",
            "Epoch 54/80\n",
            "35/35 [==============================] - 0s 3ms/step - loss: 0.1930 - accuracy: 0.8142 - val_loss: 0.1810 - val_accuracy: 0.8415\n",
            "Epoch 55/80\n",
            "35/35 [==============================] - 0s 2ms/step - loss: 0.1881 - accuracy: 0.8212 - val_loss: 0.1788 - val_accuracy: 0.8470\n",
            "Epoch 56/80\n",
            "35/35 [==============================] - 0s 2ms/step - loss: 0.1862 - accuracy: 0.8385 - val_loss: 0.1761 - val_accuracy: 0.8525\n",
            "Epoch 57/80\n",
            "35/35 [==============================] - 0s 2ms/step - loss: 0.1853 - accuracy: 0.8154 - val_loss: 0.1738 - val_accuracy: 0.8415\n",
            "Epoch 58/80\n",
            "35/35 [==============================] - 0s 3ms/step - loss: 0.1775 - accuracy: 0.8294 - val_loss: 0.1712 - val_accuracy: 0.8470\n",
            "Epoch 59/80\n",
            "35/35 [==============================] - 0s 2ms/step - loss: 0.1814 - accuracy: 0.8313 - val_loss: 0.1681 - val_accuracy: 0.8525\n",
            "Epoch 60/80\n",
            "35/35 [==============================] - 0s 3ms/step - loss: 0.1751 - accuracy: 0.8364 - val_loss: 0.1656 - val_accuracy: 0.8525\n",
            "Epoch 61/80\n",
            "35/35 [==============================] - 0s 2ms/step - loss: 0.1725 - accuracy: 0.8313 - val_loss: 0.1635 - val_accuracy: 0.8470\n",
            "Epoch 62/80\n",
            "35/35 [==============================] - 0s 3ms/step - loss: 0.1716 - accuracy: 0.8346 - val_loss: 0.1607 - val_accuracy: 0.8470\n",
            "Epoch 63/80\n",
            "35/35 [==============================] - 0s 3ms/step - loss: 0.1675 - accuracy: 0.8329 - val_loss: 0.1579 - val_accuracy: 0.8470\n",
            "Epoch 64/80\n",
            "35/35 [==============================] - 0s 2ms/step - loss: 0.1635 - accuracy: 0.8499 - val_loss: 0.1544 - val_accuracy: 0.8579\n",
            "Epoch 65/80\n",
            "35/35 [==============================] - 0s 2ms/step - loss: 0.1616 - accuracy: 0.8541 - val_loss: 0.1522 - val_accuracy: 0.8579\n",
            "Epoch 66/80\n",
            "35/35 [==============================] - 0s 2ms/step - loss: 0.1566 - accuracy: 0.8554 - val_loss: 0.1504 - val_accuracy: 0.8579\n",
            "Epoch 67/80\n",
            "35/35 [==============================] - 0s 2ms/step - loss: 0.1583 - accuracy: 0.8471 - val_loss: 0.1478 - val_accuracy: 0.8579\n",
            "Epoch 68/80\n",
            "35/35 [==============================] - 0s 2ms/step - loss: 0.1534 - accuracy: 0.8579 - val_loss: 0.1459 - val_accuracy: 0.8579\n",
            "Epoch 69/80\n",
            "35/35 [==============================] - 0s 2ms/step - loss: 0.1539 - accuracy: 0.8452 - val_loss: 0.1428 - val_accuracy: 0.8579\n",
            "Epoch 70/80\n",
            "35/35 [==============================] - 0s 2ms/step - loss: 0.1496 - accuracy: 0.8376 - val_loss: 0.1406 - val_accuracy: 0.8579\n",
            "Epoch 71/80\n",
            "35/35 [==============================] - 0s 2ms/step - loss: 0.1507 - accuracy: 0.8289 - val_loss: 0.1379 - val_accuracy: 0.8579\n",
            "Epoch 72/80\n",
            "35/35 [==============================] - 0s 2ms/step - loss: 0.1496 - accuracy: 0.8441 - val_loss: 0.1357 - val_accuracy: 0.8579\n",
            "Epoch 73/80\n",
            "35/35 [==============================] - 0s 2ms/step - loss: 0.1477 - accuracy: 0.8433 - val_loss: 0.1332 - val_accuracy: 0.8634\n",
            "Epoch 74/80\n",
            "35/35 [==============================] - 0s 2ms/step - loss: 0.1361 - accuracy: 0.8565 - val_loss: 0.1309 - val_accuracy: 0.8634\n",
            "Epoch 75/80\n",
            "35/35 [==============================] - 0s 3ms/step - loss: 0.1405 - accuracy: 0.8435 - val_loss: 0.1293 - val_accuracy: 0.8579\n",
            "Epoch 76/80\n",
            "35/35 [==============================] - 0s 2ms/step - loss: 0.1422 - accuracy: 0.8362 - val_loss: 0.1268 - val_accuracy: 0.8689\n",
            "Epoch 77/80\n",
            "35/35 [==============================] - 0s 2ms/step - loss: 0.1350 - accuracy: 0.8558 - val_loss: 0.1251 - val_accuracy: 0.8634\n",
            "Epoch 78/80\n",
            "35/35 [==============================] - 0s 2ms/step - loss: 0.1389 - accuracy: 0.8341 - val_loss: 0.1230 - val_accuracy: 0.8689\n",
            "Epoch 79/80\n",
            "35/35 [==============================] - 0s 2ms/step - loss: 0.1308 - accuracy: 0.8587 - val_loss: 0.1209 - val_accuracy: 0.8798\n",
            "Epoch 80/80\n",
            "35/35 [==============================] - 0s 2ms/step - loss: 0.1310 - accuracy: 0.8433 - val_loss: 0.1194 - val_accuracy: 0.8798\n"
          ],
          "name": "stdout"
        }
      ]
    },
    {
      "cell_type": "code",
      "metadata": {
        "colab": {
          "base_uri": "https://localhost:8080/"
        },
        "id": "-r25mZo64Qhi",
        "outputId": "e6756b76-b2f5-429a-97d2-a17faa826749"
      },
      "source": [
        "#Evaluate the model (return both loss and accuracy)\r\n",
        "model.evaluate(X_test, y_test)\r\n",
        "#We can see that the accuracy on the test set is ~90.6%"
      ],
      "execution_count": 9,
      "outputs": [
        {
          "output_type": "stream",
          "text": [
            "6/6 [==============================] - 0s 2ms/step - loss: 0.1230 - accuracy: 0.9066\n"
          ],
          "name": "stdout"
        },
        {
          "output_type": "execute_result",
          "data": {
            "text/plain": [
              "[0.12300568073987961, 0.906593382358551]"
            ]
          },
          "metadata": {
            "tags": []
          },
          "execution_count": 9
        }
      ]
    },
    {
      "cell_type": "code",
      "metadata": {
        "colab": {
          "base_uri": "https://localhost:8080/",
          "height": 295
        },
        "id": "sEoSDLWi4dK0",
        "outputId": "9d3d4994-1600-4e65-b886-639bd7db145a"
      },
      "source": [
        "#Plot the training and validation loss (this is loss in Mean Squared Error, as requested)\r\n",
        "#This code was given in the article\r\n",
        "plt.plot(history.history['loss'])\r\n",
        "plt.plot(history.history['val_loss'])\r\n",
        "plt.title('Model loss')\r\n",
        "plt.ylabel('Loss')\r\n",
        "plt.xlabel('Epoch')\r\n",
        "plt.legend(['Train', 'Val'], loc='upper right')\r\n",
        "plt.show()"
      ],
      "execution_count": 10,
      "outputs": [
        {
          "output_type": "display_data",
          "data": {
            "image/png": "[encoded data removed]",
            "text/plain": [
              "<Figure size 432x288 with 1 Axes>"
            ]
          },
          "metadata": {
            "tags": [],
            "needs_background": "light"
          }
        }
      ]
    },
    {
      "cell_type": "code",
      "metadata": {
        "colab": {
          "base_uri": "https://localhost:8080/",
          "height": 295
        },
        "id": "6W5ILH1V4175",
        "outputId": "ba8941eb-e593-40a9-c0ad-62527bf8aec0"
      },
      "source": [
        "#Plot the training and validation accuracy\r\n",
        "#This code was given in the article\r\n",
        "plt.plot(history.history['accuracy'])\r\n",
        "plt.plot(history.history['val_accuracy'])\r\n",
        "plt.title('Model accuracy')\r\n",
        "plt.ylabel('Accuracy')\r\n",
        "plt.xlabel('Epoch')\r\n",
        "plt.legend(['Train', 'Val'], loc='lower right')\r\n",
        "plt.show()"
      ],
      "execution_count": 11,
      "outputs": [
        {
          "output_type": "display_data",
          "data": {
            "image/png": "[encoded data removed]",
            "text/plain": [
              "<Figure size 432x288 with 1 Axes>"
            ]
          },
          "metadata": {
            "tags": [],
            "needs_background": "light"
          }
        }
      ]
    },
    {
      "cell_type": "code",
      "metadata": {
        "colab": {
          "base_uri": "https://localhost:8080/",
          "height": 319
        },
        "id": "6Las8BRI5FRz",
        "outputId": "ec8e2508-269a-4c79-e7e9-8e6792922a7c"
      },
      "source": [
        "#Lastly, we want to look at a confusion matrix on our test dataset\r\n",
        "y_pred = model.predict_classes(X_test)\r\n",
        "#Confusion Matrix\r\n",
        "cm = confusion_matrix(y_test, y_pred)\r\n",
        "sns.heatmap(cm, cmap='Blues', cbar=False, annot=True, fmt='d');"
      ],
      "execution_count": 12,
      "outputs": [
        {
          "output_type": "stream",
          "text": [
            "/usr/local/lib/python3.7/dist-packages/tensorflow/python/keras/engine/sequential.py:450: UserWarning: `model.predict_classes()` is deprecated and will be removed after 2021-01-01. Please use instead:* `np.argmax(model.predict(x), axis=-1)`,   if your model does multi-class classification   (e.g. if it uses a `softmax` last-layer activation).* `(model.predict(x) > 0.5).astype(\"int32\")`,   if your model does binary classification   (e.g. if it uses a `sigmoid` last-layer activation).\n",
            "  warnings.warn('`model.predict_classes()` is deprecated and '\n"
          ],
          "name": "stderr"
        },
        {
          "output_type": "display_data",
          "data": {
            "image/png": "[encoded data removed]",
            "text/plain": [
              "<Figure size 432x288 with 1 Axes>"
            ]
          },
          "metadata": {
            "tags": [],
            "needs_background": "light"
          }
        }
      ]
    }
  ]
}