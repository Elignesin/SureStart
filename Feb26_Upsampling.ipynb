{
  "nbformat": 4,
  "nbformat_minor": 0,
  "metadata": {
    "colab": {
      "name": "Feb26-Upsampling.ipynb",
      "provenance": [],
      "authorship_tag": "ABX9TyOXSG+2fBAkWIR237KeysZC",
      "include_colab_link": true
    },
    "kernelspec": {
      "name": "python3",
      "display_name": "Python 3"
    }
  },
  "cells": [
    {
      "cell_type": "markdown",
      "metadata": {
        "id": "view-in-github",
        "colab_type": "text"
      },
      "source": [
        "<a href=\"https://colab.research.google.com/github/Elignesin/SureStart/blob/main/Feb26_Upsampling.ipynb\" target=\"_parent\"><img src=\"https://colab.research.google.com/assets/colab-badge.svg\" alt=\"Open In Colab\"/></a>"
      ]
    },
    {
      "cell_type": "markdown",
      "metadata": {
        "id": "rBRQbG6Lsivt"
      },
      "source": [
        "#### Upsampling\r\n",
        "This notebook will explore and run the upsampling activity found at https://machinelearningmastery.com/upsampling-and-transpose-convolution-layers-for-generative-adversarial-networks/. This will use the UpSampling2D and Conv2DTranspose layers in Keras."
      ]
    },
    {
      "cell_type": "code",
      "metadata": {
        "id": "CI3Z6o80Jw_V"
      },
      "source": [
        "#Import Libraries\r\n",
        "import numpy as np\r\n",
        "import keras\r\n",
        "from tensorflow import keras\r\n",
        "from keras.models import Sequential\r\n",
        "from keras.layers import UpSampling2D"
      ],
      "execution_count": 6,
      "outputs": []
    },
    {
      "cell_type": "code",
      "metadata": {
        "colab": {
          "base_uri": "https://localhost:8080/"
        },
        "id": "9Wkuw5SgJ793",
        "outputId": "cf28fa7e-7ae5-4403-8279-6b28dc0ca675"
      },
      "source": [
        "# define input data\r\n",
        "X = np.asarray([[1, 2],\r\n",
        "\t\t\t [3, 4]])\r\n",
        "# show input data for context\r\n",
        "print(X)\r\n",
        "# reshape input data into one sample a sample with a channel\r\n",
        "X = X.reshape((1, 2, 2, 1))"
      ],
      "execution_count": 7,
      "outputs": [
        {
          "output_type": "stream",
          "text": [
            "[[1 2]\n",
            " [3 4]]\n"
          ],
          "name": "stdout"
        }
      ]
    },
    {
      "cell_type": "code",
      "metadata": {
        "colab": {
          "base_uri": "https://localhost:8080/"
        },
        "id": "dy-Z0N6EKIUK",
        "outputId": "c47017d9-cbd0-4d32-e861-3bac2f36ae29"
      },
      "source": [
        "# define model\r\n",
        "model = Sequential()\r\n",
        "model.add(UpSampling2D(input_shape=(2, 2, 1)))\r\n",
        "# summarize the model\r\n",
        "model.summary()"
      ],
      "execution_count": 8,
      "outputs": [
        {
          "output_type": "stream",
          "text": [
            "Model: \"sequential_1\"\n",
            "_________________________________________________________________\n",
            "Layer (type)                 Output Shape              Param #   \n",
            "=================================================================\n",
            "up_sampling2d_1 (UpSampling2 (None, 4, 4, 1)           0         \n",
            "=================================================================\n",
            "Total params: 0\n",
            "Trainable params: 0\n",
            "Non-trainable params: 0\n",
            "_________________________________________________________________\n"
          ],
          "name": "stdout"
        }
      ]
    },
    {
      "cell_type": "code",
      "metadata": {
        "colab": {
          "base_uri": "https://localhost:8080/"
        },
        "id": "a2kuWZh1KP1S",
        "outputId": "f58510ee-bf5a-4b04-cf4c-0a77c6ccc800"
      },
      "source": [
        "# make a prediction with the model\r\n",
        "yhat = model.predict(X)\r\n",
        "# reshape output to remove channel to make printing easier\r\n",
        "yhat = yhat.reshape((4, 4))\r\n",
        "# summarize output\r\n",
        "print(yhat)"
      ],
      "execution_count": 10,
      "outputs": [
        {
          "output_type": "stream",
          "text": [
            "[[1. 1. 2. 2.]\n",
            " [1. 1. 2. 2.]\n",
            " [3. 3. 4. 4.]\n",
            " [3. 3. 4. 4.]]\n"
          ],
          "name": "stdout"
        }
      ]
    },
    {
      "cell_type": "code",
      "metadata": {
        "id": "ARCC-6RkKcrR"
      },
      "source": [
        "# example of using different scale factors for each dimension\r\n",
        "model.add(UpSampling2D(size=(2, 3)))\r\n",
        "\r\n",
        "# example of using bilinear interpolation when upsampling\r\n",
        "model.add(UpSampling2D(interpolation='bilinear'))"
      ],
      "execution_count": 11,
      "outputs": []
    },
    {
      "cell_type": "code",
      "metadata": {
        "colab": {
          "base_uri": "https://localhost:8080/"
        },
        "id": "3DtR30pJKnnx",
        "outputId": "82525924-51d1-4066-a929-a2370935f5de"
      },
      "source": [
        "#Upsampling in a simple model generator (for GANs)\r\n",
        "from keras.models import Sequential\r\n",
        "from keras.layers import Dense\r\n",
        "from keras.layers import Reshape\r\n",
        "from keras.layers import UpSampling2D\r\n",
        "from keras.layers import Conv2D\r\n",
        "# define model\r\n",
        "model = Sequential()\r\n",
        "# define input shape, output enough activations for for 128 5x5 image\r\n",
        "model.add(Dense(128 * 5 * 5, input_dim=100))\r\n",
        "# reshape vector of activations into 128 feature maps with 5x5\r\n",
        "model.add(Reshape((5, 5, 128)))\r\n",
        "# double input from 128 5x5 to 1 10x10 feature map\r\n",
        "model.add(UpSampling2D())\r\n",
        "# fill in detail in the upsampled feature maps and output a single image\r\n",
        "model.add(Conv2D(1, (3,3), padding='same'))\r\n",
        "# summarize model\r\n",
        "model.summary()"
      ],
      "execution_count": 12,
      "outputs": [
        {
          "output_type": "stream",
          "text": [
            "Model: \"sequential_2\"\n",
            "_________________________________________________________________\n",
            "Layer (type)                 Output Shape              Param #   \n",
            "=================================================================\n",
            "dense (Dense)                (None, 3200)              323200    \n",
            "_________________________________________________________________\n",
            "reshape (Reshape)            (None, 5, 5, 128)         0         \n",
            "_________________________________________________________________\n",
            "up_sampling2d_4 (UpSampling2 (None, 10, 10, 128)       0         \n",
            "_________________________________________________________________\n",
            "conv2d (Conv2D)              (None, 10, 10, 1)         1153      \n",
            "=================================================================\n",
            "Total params: 324,353\n",
            "Trainable params: 324,353\n",
            "Non-trainable params: 0\n",
            "_________________________________________________________________\n"
          ],
          "name": "stdout"
        }
      ]
    },
    {
      "cell_type": "code",
      "metadata": {
        "colab": {
          "base_uri": "https://localhost:8080/"
        },
        "id": "d6dlyxvTK7Ro",
        "outputId": "2584b2a3-2b53-4f02-b78f-6bd0487539ae"
      },
      "source": [
        "#Example of using the Conv2DTranspose Layer\r\n",
        "from numpy import asarray\r\n",
        "from keras.models import Sequential\r\n",
        "from keras.layers import Conv2DTranspose\r\n",
        "# define input data\r\n",
        "X = asarray([[1, 2],\r\n",
        "\t\t\t [3, 4]])\r\n",
        "# show input data for context\r\n",
        "print(X)\r\n",
        "# reshape input data into one sample a sample with a channel\r\n",
        "X = X.reshape((1, 2, 2, 1))\r\n",
        "# define model\r\n",
        "model = Sequential()\r\n",
        "model.add(Conv2DTranspose(1, (1,1), strides=(2,2), input_shape=(2, 2, 1)))\r\n",
        "# summarize the model\r\n",
        "model.summary()\r\n",
        "# define weights that they do nothing\r\n",
        "weights = [asarray([[[[1]]]]), asarray([0])]\r\n",
        "# store the weights in the model\r\n",
        "model.set_weights(weights)\r\n",
        "# make a prediction with the model\r\n",
        "yhat = model.predict(X)\r\n",
        "# reshape output to remove channel to make printing easier\r\n",
        "yhat = yhat.reshape((4, 4))\r\n",
        "# summarize output\r\n",
        "print(yhat)"
      ],
      "execution_count": 13,
      "outputs": [
        {
          "output_type": "stream",
          "text": [
            "[[1 2]\n",
            " [3 4]]\n",
            "Model: \"sequential_3\"\n",
            "_________________________________________________________________\n",
            "Layer (type)                 Output Shape              Param #   \n",
            "=================================================================\n",
            "conv2d_transpose (Conv2DTran (None, 4, 4, 1)           2         \n",
            "=================================================================\n",
            "Total params: 2\n",
            "Trainable params: 2\n",
            "Non-trainable params: 0\n",
            "_________________________________________________________________\n",
            "[[1. 0. 2. 0.]\n",
            " [0. 0. 0. 0.]\n",
            " [3. 0. 4. 0.]\n",
            " [0. 0. 0. 0.]]\n"
          ],
          "name": "stdout"
        }
      ]
    }
  ]
}