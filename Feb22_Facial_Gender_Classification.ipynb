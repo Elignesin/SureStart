{
  "nbformat": 4,
  "nbformat_minor": 0,
  "metadata": {
    "colab": {
      "name": "Feb22_Facial_Gender_Classification.ipynb",
      "provenance": [],
      "authorship_tag": "ABX9TyM3q8kv8Ra9qUu0RLOSx+NA",
      "include_colab_link": true
    },
    "kernelspec": {
      "name": "python3",
      "display_name": "Python 3"
    }
  },
  "cells": [
    {
      "cell_type": "markdown",
      "metadata": {
        "id": "view-in-github",
        "colab_type": "text"
      },
      "source": [
        "<a href=\"https://colab.research.google.com/github/Elignesin/SureStart/blob/main/Feb22_Facial_Gender_Classification.ipynb\" target=\"_parent\"><img src=\"https://colab.research.google.com/assets/colab-badge.svg\" alt=\"Open In Colab\"/></a>"
      ]
    },
    {
      "cell_type": "markdown",
      "metadata": {
        "id": "NuFYVrcBGMZP"
      },
      "source": [
        "### Gender Classification of Facial Images\r\n",
        "This notebook will create a classification Convolutional Neural Network to classify the gender of faces in images in a dataset. The dataset comes from https://www.kaggle.com/nipunarora8/age-gender-and-ethnicity-face-data-csv, and the CNN in this notebook is adapted in part from https://www.kaggle.com/thanaphatj/gender-classification-of-facial-images-cnn/.  \r\n",
        "\r\n",
        "The data in the notebook and the CSV file is encoded as follows:  \r\n",
        "*   Age: range from 1 to 116  \r\n",
        "*   Ethnicity: 0 - White, 1 - Black, 2 - Asian, 3 - Indian, 4 - Other  \r\n",
        "*   Gender: 0 - male, 1 - female  "
      ]
    },
    {
      "cell_type": "code",
      "metadata": {
        "id": "BYQR7FrnGH1d"
      },
      "source": [
        "#Import necessary libraries\r\n",
        "import pandas as pd\r\n",
        "import numpy as np\r\n",
        "import matplotlib.pyplot as plt\r\n",
        "import seaborn as sns\r\n",
        "#This helps with plotting in notebooks\r\n",
        "%matplotlib inline \r\n",
        "\r\n",
        "import tensorflow as tf\r\n",
        "import keras\r\n",
        "from tensorflow import keras\r\n",
        "from keras import layers\r\n",
        "from keras.models import Sequential\r\n",
        "from keras.layers import Dense, Dropout, Flatten\r\n",
        "from keras.layers import Conv2D, MaxPooling2D, BatchNormalization, GlobalAveragePooling2D\r\n",
        "from tensorflow.keras.losses import sparse_categorical_crossentropy, binary_crossentropy\r\n",
        "from tensorflow.keras.optimizers import Adam, SGD, RMSprop\r\n",
        "from tensorflow.keras.callbacks import ReduceLROnPlateau , ModelCheckpoint, EarlyStopping\r\n",
        "from tensorflow.keras import Input, Model\r\n",
        "from tensorflow.keras.preprocessing.image import ImageDataGenerator\r\n",
        "from keras.utils import to_categorical\r\n",
        "from keras.preprocessing import image\r\n",
        "from sklearn.model_selection import train_test_split as tts\r\n",
        "from sklearn.metrics import confusion_matrix, classification_report\r\n",
        "import random"
      ],
      "execution_count": 1,
      "outputs": []
    },
    {
      "cell_type": "code",
      "metadata": {
        "colab": {
          "base_uri": "https://localhost:8080/",
          "height": 427
        },
        "id": "vQ17cpyQGx51",
        "outputId": "a04c6b89-5393-4991-90fe-5d991b6a8003"
      },
      "source": [
        "#Now let's read in the data into a dataframe and look at it\r\n",
        "data = pd.read_csv('age_gender.csv')\r\n",
        "print(data.info())\r\n",
        "data.head()"
      ],
      "execution_count": 2,
      "outputs": [
        {
          "output_type": "stream",
          "text": [
            "<class 'pandas.core.frame.DataFrame'>\n",
            "RangeIndex: 23705 entries, 0 to 23704\n",
            "Data columns (total 5 columns):\n",
            " #   Column     Non-Null Count  Dtype \n",
            "---  ------     --------------  ----- \n",
            " 0   age        23705 non-null  int64 \n",
            " 1   ethnicity  23705 non-null  int64 \n",
            " 2   gender     23705 non-null  int64 \n",
            " 3   img_name   23705 non-null  object\n",
            " 4   pixels     23705 non-null  object\n",
            "dtypes: int64(3), object(2)\n",
            "memory usage: 926.1+ KB\n",
            "None\n"
          ],
          "name": "stdout"
        },
        {
          "output_type": "execute_result",
          "data": {
            "text/html": [
              "<div>\n",
              "<style scoped>\n",
              "    .dataframe tbody tr th:only-of-type {\n",
              "        vertical-align: middle;\n",
              "    }\n",
              "\n",
              "    .dataframe tbody tr th {\n",
              "        vertical-align: top;\n",
              "    }\n",
              "\n",
              "    .dataframe thead th {\n",
              "        text-align: right;\n",
              "    }\n",
              "</style>\n",
              "<table border=\"1\" class=\"dataframe\">\n",
              "  <thead>\n",
              "    <tr style=\"text-align: right;\">\n",
              "      <th></th>\n",
              "      <th>age</th>\n",
              "      <th>ethnicity</th>\n",
              "      <th>gender</th>\n",
              "      <th>img_name</th>\n",
              "      <th>pixels</th>\n",
              "    </tr>\n",
              "  </thead>\n",
              "  <tbody>\n",
              "    <tr>\n",
              "      <th>0</th>\n",
              "      <td>1</td>\n",
              "      <td>2</td>\n",
              "      <td>0</td>\n",
              "      <td>20161219203650636.jpg.chip.jpg</td>\n",
              "      <td>129 128 128 126 127 130 133 135 139 142 145 14...</td>\n",
              "    </tr>\n",
              "    <tr>\n",
              "      <th>1</th>\n",
              "      <td>1</td>\n",
              "      <td>2</td>\n",
              "      <td>0</td>\n",
              "      <td>20161219222752047.jpg.chip.jpg</td>\n",
              "      <td>164 74 111 168 169 171 175 182 184 188 193 199...</td>\n",
              "    </tr>\n",
              "    <tr>\n",
              "      <th>2</th>\n",
              "      <td>1</td>\n",
              "      <td>2</td>\n",
              "      <td>0</td>\n",
              "      <td>20161219222832191.jpg.chip.jpg</td>\n",
              "      <td>67 70 71 70 69 67 70 79 90 103 116 132 145 155...</td>\n",
              "    </tr>\n",
              "    <tr>\n",
              "      <th>3</th>\n",
              "      <td>1</td>\n",
              "      <td>2</td>\n",
              "      <td>0</td>\n",
              "      <td>20161220144911423.jpg.chip.jpg</td>\n",
              "      <td>193 197 198 200 199 200 202 203 204 205 208 21...</td>\n",
              "    </tr>\n",
              "    <tr>\n",
              "      <th>4</th>\n",
              "      <td>1</td>\n",
              "      <td>2</td>\n",
              "      <td>0</td>\n",
              "      <td>20161220144914327.jpg.chip.jpg</td>\n",
              "      <td>202 205 209 210 209 209 210 211 212 214 218 21...</td>\n",
              "    </tr>\n",
              "  </tbody>\n",
              "</table>\n",
              "</div>"
            ],
            "text/plain": [
              "   age  ...                                             pixels\n",
              "0    1  ...  129 128 128 126 127 130 133 135 139 142 145 14...\n",
              "1    1  ...  164 74 111 168 169 171 175 182 184 188 193 199...\n",
              "2    1  ...  67 70 71 70 69 67 70 79 90 103 116 132 145 155...\n",
              "3    1  ...  193 197 198 200 199 200 202 203 204 205 208 21...\n",
              "4    1  ...  202 205 209 210 209 209 210 211 212 214 218 21...\n",
              "\n",
              "[5 rows x 5 columns]"
            ]
          },
          "metadata": {
            "tags": []
          },
          "execution_count": 2
        }
      ]
    },
    {
      "cell_type": "code",
      "metadata": {
        "colab": {
          "base_uri": "https://localhost:8080/",
          "height": 279
        },
        "id": "_KlIh8dqIN_d",
        "outputId": "24e8da42-f986-4d34-b4f9-05e2d31600a4"
      },
      "source": [
        "#Let's look at a plot of the gender, because that's what we're going to try to predict first here\r\n",
        "sns.countplot(x='gender', data=data)\r\n",
        "plt.show()"
      ],
      "execution_count": 3,
      "outputs": [
        {
          "output_type": "display_data",
          "data": {
            "image/png": "[encoded data removed]",
            "text/plain": [
              "<Figure size 432x288 with 1 Axes>"
            ]
          },
          "metadata": {
            "tags": [],
            "needs_background": "light"
          }
        }
      ]
    },
    {
      "cell_type": "markdown",
      "metadata": {
        "id": "dw1LbSrgJjeH"
      },
      "source": [
        "#### Data Preprocessing Steps"
      ]
    },
    {
      "cell_type": "code",
      "metadata": {
        "colab": {
          "base_uri": "https://localhost:8080/"
        },
        "id": "V-HU9IXkI-gJ",
        "outputId": "b44506e6-7bb7-4394-a710-c21405adfcc9"
      },
      "source": [
        "#First, we want to only work with adults, so we're going to drop all columns with age below 16\r\n",
        "#This drops about 4000 rows\r\n",
        "adult_data = data[data['age'] >= 16]\r\n",
        "adult_data.shape"
      ],
      "execution_count": 4,
      "outputs": [
        {
          "output_type": "execute_result",
          "data": {
            "text/plain": [
              "(19877, 5)"
            ]
          },
          "metadata": {
            "tags": []
          },
          "execution_count": 4
        }
      ]
    },
    {
      "cell_type": "code",
      "metadata": {
        "id": "G02_DB5aJmRV"
      },
      "source": [
        "#Next, we have to separate out the image data and shape it into numpy arrays of the correct dimensions\r\n",
        "\r\n",
        "#First, we figure out the image dimensions\r\n",
        "image1 = len(adult_data['pixels'].iloc[0].split(' '))\r\n",
        "dimension = int(image1 ** .5)\r\n",
        "img_width=dimension\r\n",
        "img_height=dimension\r\n",
        "\r\n",
        "#I'm taking this function from the notebook, then modifying it slightly\r\n",
        "def str_to_npArr(x):\r\n",
        "    x = x.reset_index(drop=True)\r\n",
        "    x = x.apply(lambda x: np.array([int(i)/255 for i in x.split(' ')], dtype=\"float32\")) #converting data to numpy array\r\n",
        "    return np.array([x[i].reshape(img_width, img_height, 1) for i in range(x.shape[0])])\r\n",
        "\r\n",
        "#Make our image dataset\r\n",
        "images = adult_data.iloc[:, 4]\r\n",
        "gender = adult_data.iloc[:, 2]\r\n",
        "\r\n",
        "#Reshape our images\r\n",
        "images_npArr = str_to_npArr(images)"
      ],
      "execution_count": 5,
      "outputs": []
    },
    {
      "cell_type": "code",
      "metadata": {
        "colab": {
          "base_uri": "https://localhost:8080/"
        },
        "id": "2mEywqA9K4nI",
        "outputId": "66b72c29-a95d-4fb9-ee7f-1f00f5a782e6"
      },
      "source": [
        "#Split our training, testing, and validation datasets\r\n",
        "\r\n",
        "#Split out a testing dataset, 15%\r\n",
        "train, X_test, trainy, y_test = tts(images_npArr, gender, test_size = 0.15, random_state = 126)\r\n",
        "#Split out a validation dataset, 25% of our remaining dataset\r\n",
        "X_train, X_val, y_train, y_val = tts(train, trainy, test_size = 0.25, random_state = 126)\r\n",
        "\r\n",
        "print(f\"Training Set: {X_train.shape}, {y_train.shape}\")\r\n",
        "print(f\"Validation Set: {X_val.shape}, {y_val.shape}\")\r\n",
        "print(f\"Testing Set: {X_test.shape}, {y_test.shape}\")"
      ],
      "execution_count": 6,
      "outputs": [
        {
          "output_type": "stream",
          "text": [
            "Training Set: (12671, 48, 48, 1), (12671,)\n",
            "Validation Set: (4224, 48, 48, 1), (4224,)\n",
            "Testing Set: (2982, 48, 48, 1), (2982,)\n"
          ],
          "name": "stdout"
        }
      ]
    },
    {
      "cell_type": "markdown",
      "metadata": {
        "id": "QPUXYBYONflo"
      },
      "source": [
        "#### Data Augmentation\r\n",
        "Here, we're going to do some basic image augmentation on the training data, and also rescale all the X data"
      ]
    },
    {
      "cell_type": "code",
      "metadata": {
        "id": "mwQqeGdbNZ80"
      },
      "source": [
        "#Use ImageDataGenerator to create augmentations, I modified the code in the notebook here for the training data\r\n",
        "#I also did the rescaling above so it didn't have to be done down here\r\n",
        "\r\n",
        "data_gen = ImageDataGenerator(rotation_range=25,\r\n",
        "                              width_shift_range=.2,\r\n",
        "                              brightness_range=[0.75,1.25],\r\n",
        "                              zoom_range=[0.8,1.2],\r\n",
        "                              height_shift_range=.2,  # randomly shift images vertically 10%\r\n",
        "                              horizontal_flip=True,\r\n",
        "                              vertical_flip = True# randomly flip images\r\n",
        "                              )"
      ],
      "execution_count": 7,
      "outputs": []
    },
    {
      "cell_type": "markdown",
      "metadata": {
        "id": "7xcQYIOFO3P_"
      },
      "source": [
        "#### Building and Training the Model"
      ]
    },
    {
      "cell_type": "code",
      "metadata": {
        "id": "uGKDqJo6O2ph"
      },
      "source": [
        "batch_size = 32\r\n",
        "img_height = 48\r\n",
        "img_width = 48\r\n",
        "input_shape = (img_height, img_width, 1)\r\n",
        "n_classes = 2\r\n",
        "epochs = 25"
      ],
      "execution_count": 8,
      "outputs": []
    },
    {
      "cell_type": "code",
      "metadata": {
        "colab": {
          "base_uri": "https://localhost:8080/"
        },
        "id": "4-e7Ef5RPZhe",
        "outputId": "35adac86-04a3-478f-8d2d-f6a5a40d997f"
      },
      "source": [
        "#The notebook uses k-fold cross validation, I don't want to\r\n",
        "#We're going to build a model with two convolutional layers, three dense layers, and an output layer\r\n",
        "model = Sequential()\r\n",
        "#First Convolutional Layer\r\n",
        "model.add(Conv2D(64, (3,3), input_shape=input_shape, activation='relu'))\r\n",
        "model.add(MaxPooling2D((2,2)))\r\n",
        "model.add(BatchNormalization())\r\n",
        "model.add(Dropout(0.3))\r\n",
        "#Second Convolutional Layer\r\n",
        "model.add(Conv2D(64, (3,3), activation='relu'))\r\n",
        "model.add(MaxPooling2D((2,2)))\r\n",
        "model.add(BatchNormalization())\r\n",
        "model.add(Dropout(0.3))\r\n",
        "#Flatten Layer reduces the input to one dimension\r\n",
        "model.add(Flatten())\r\n",
        "#Dense Layers\r\n",
        "model.add(Dense(32, activation='relu'))\r\n",
        "model.add(Dropout(0.3))\r\n",
        "model.add(Dense(16, activation = 'relu'))\r\n",
        "model.add(Dense(8, activation='relu'))\r\n",
        "#Output Layer with Sigmoid Activation\r\n",
        "model.add(Dense(1, activation='sigmoid'))\r\n",
        "model.summary()"
      ],
      "execution_count": 20,
      "outputs": [
        {
          "output_type": "stream",
          "text": [
            "Model: \"sequential_7\"\n",
            "_________________________________________________________________\n",
            "Layer (type)                 Output Shape              Param #   \n",
            "=================================================================\n",
            "conv2d_14 (Conv2D)           (None, 46, 46, 64)        640       \n",
            "_________________________________________________________________\n",
            "max_pooling2d_14 (MaxPooling (None, 23, 23, 64)        0         \n",
            "_________________________________________________________________\n",
            "batch_normalization_14 (Batc (None, 23, 23, 64)        256       \n",
            "_________________________________________________________________\n",
            "dropout_20 (Dropout)         (None, 23, 23, 64)        0         \n",
            "_________________________________________________________________\n",
            "conv2d_15 (Conv2D)           (None, 21, 21, 64)        36928     \n",
            "_________________________________________________________________\n",
            "max_pooling2d_15 (MaxPooling (None, 10, 10, 64)        0         \n",
            "_________________________________________________________________\n",
            "batch_normalization_15 (Batc (None, 10, 10, 64)        256       \n",
            "_________________________________________________________________\n",
            "dropout_21 (Dropout)         (None, 10, 10, 64)        0         \n",
            "_________________________________________________________________\n",
            "flatten_5 (Flatten)          (None, 6400)              0         \n",
            "_________________________________________________________________\n",
            "dense_27 (Dense)             (None, 32)                204832    \n",
            "_________________________________________________________________\n",
            "dropout_22 (Dropout)         (None, 32)                0         \n",
            "_________________________________________________________________\n",
            "dense_28 (Dense)             (None, 16)                528       \n",
            "_________________________________________________________________\n",
            "dense_29 (Dense)             (None, 8)                 136       \n",
            "_________________________________________________________________\n",
            "dense_30 (Dense)             (None, 1)                 9         \n",
            "=================================================================\n",
            "Total params: 243,585\n",
            "Trainable params: 243,329\n",
            "Non-trainable params: 256\n",
            "_________________________________________________________________\n"
          ],
          "name": "stdout"
        }
      ]
    },
    {
      "cell_type": "code",
      "metadata": {
        "id": "TdOpEjLQQ22j"
      },
      "source": [
        "#Now we'll compile the model\r\n",
        "model.compile(optimizer=RMSprop(learning_rate=1e-04), loss='binary_crossentropy', metrics=['accuracy'])"
      ],
      "execution_count": 21,
      "outputs": []
    },
    {
      "cell_type": "code",
      "metadata": {
        "colab": {
          "base_uri": "https://localhost:8080/"
        },
        "id": "e0y-OyS4RMJi",
        "outputId": "b53a8fea-9fd2-4340-c178-3e2a989edf2e"
      },
      "source": [
        "#Fit the model\r\n",
        "history = model.fit(data_gen.flow(X_train,y_train, batch_size=batch_size),\r\n",
        "                              epochs = epochs, validation_data = (X_val,y_val), steps_per_epoch=X_train.shape[0] // batch_size,\r\n",
        "                              verbose=1)"
      ],
      "execution_count": 22,
      "outputs": [
        {
          "output_type": "stream",
          "text": [
            "Epoch 1/25\n",
            "395/395 [==============================] - 76s 189ms/step - loss: 0.6776 - accuracy: 0.5899 - val_loss: 0.8721 - val_accuracy: 0.5376\n",
            "Epoch 2/25\n",
            "395/395 [==============================] - 74s 188ms/step - loss: 0.6303 - accuracy: 0.6638 - val_loss: 0.7802 - val_accuracy: 0.5376\n",
            "Epoch 3/25\n",
            "395/395 [==============================] - 74s 188ms/step - loss: 0.6261 - accuracy: 0.6608 - val_loss: 0.8042 - val_accuracy: 0.5376\n",
            "Epoch 4/25\n",
            "395/395 [==============================] - 74s 188ms/step - loss: 0.6069 - accuracy: 0.6843 - val_loss: 0.7848 - val_accuracy: 0.5376\n",
            "Epoch 5/25\n",
            "395/395 [==============================] - 75s 189ms/step - loss: 0.5980 - accuracy: 0.6859 - val_loss: 0.6891 - val_accuracy: 0.5376\n",
            "Epoch 6/25\n",
            "395/395 [==============================] - 74s 189ms/step - loss: 0.5994 - accuracy: 0.6864 - val_loss: 0.6895 - val_accuracy: 0.5376\n",
            "Epoch 7/25\n",
            "395/395 [==============================] - 75s 189ms/step - loss: 0.5867 - accuracy: 0.7008 - val_loss: 1.1020 - val_accuracy: 0.5376\n",
            "Epoch 8/25\n",
            "395/395 [==============================] - 75s 189ms/step - loss: 0.5879 - accuracy: 0.6927 - val_loss: 0.8555 - val_accuracy: 0.5376\n",
            "Epoch 9/25\n",
            "395/395 [==============================] - 75s 189ms/step - loss: 0.5920 - accuracy: 0.6989 - val_loss: 0.8364 - val_accuracy: 0.5376\n",
            "Epoch 10/25\n",
            "395/395 [==============================] - 75s 189ms/step - loss: 0.5832 - accuracy: 0.6977 - val_loss: 0.7627 - val_accuracy: 0.5376\n",
            "Epoch 11/25\n",
            "395/395 [==============================] - 75s 190ms/step - loss: 0.5718 - accuracy: 0.7089 - val_loss: 0.8166 - val_accuracy: 0.5376\n",
            "Epoch 12/25\n",
            "395/395 [==============================] - 75s 189ms/step - loss: 0.5582 - accuracy: 0.7224 - val_loss: 1.0693 - val_accuracy: 0.5376\n",
            "Epoch 13/25\n",
            "395/395 [==============================] - 75s 189ms/step - loss: 0.5630 - accuracy: 0.7140 - val_loss: 0.7381 - val_accuracy: 0.5376\n",
            "Epoch 14/25\n",
            "395/395 [==============================] - 75s 190ms/step - loss: 0.5640 - accuracy: 0.7152 - val_loss: 0.7381 - val_accuracy: 0.5376\n",
            "Epoch 15/25\n",
            "395/395 [==============================] - 76s 191ms/step - loss: 0.5555 - accuracy: 0.7256 - val_loss: 0.7520 - val_accuracy: 0.5376\n",
            "Epoch 16/25\n",
            "395/395 [==============================] - 75s 190ms/step - loss: 0.5454 - accuracy: 0.7310 - val_loss: 0.6967 - val_accuracy: 0.4640\n",
            "Epoch 17/25\n",
            "395/395 [==============================] - 75s 191ms/step - loss: 0.5606 - accuracy: 0.7226 - val_loss: 0.7003 - val_accuracy: 0.5376\n",
            "Epoch 18/25\n",
            "395/395 [==============================] - 76s 191ms/step - loss: 0.5424 - accuracy: 0.7336 - val_loss: 0.7318 - val_accuracy: 0.5376\n",
            "Epoch 19/25\n",
            "395/395 [==============================] - 76s 192ms/step - loss: 0.5393 - accuracy: 0.7360 - val_loss: 0.8109 - val_accuracy: 0.5376\n",
            "Epoch 20/25\n",
            "395/395 [==============================] - 75s 191ms/step - loss: 0.5484 - accuracy: 0.7292 - val_loss: 0.7048 - val_accuracy: 0.5376\n",
            "Epoch 21/25\n",
            "395/395 [==============================] - 75s 191ms/step - loss: 0.5387 - accuracy: 0.7323 - val_loss: 0.7720 - val_accuracy: 0.5376\n",
            "Epoch 22/25\n",
            "395/395 [==============================] - 75s 191ms/step - loss: 0.5323 - accuracy: 0.7336 - val_loss: 0.7329 - val_accuracy: 0.5376\n",
            "Epoch 23/25\n",
            "395/395 [==============================] - 76s 192ms/step - loss: 0.5352 - accuracy: 0.7386 - val_loss: 0.7619 - val_accuracy: 0.4347\n",
            "Epoch 24/25\n",
            "395/395 [==============================] - 75s 191ms/step - loss: 0.5307 - accuracy: 0.7423 - val_loss: 0.7901 - val_accuracy: 0.5376\n",
            "Epoch 25/25\n",
            "395/395 [==============================] - 76s 191ms/step - loss: 0.5166 - accuracy: 0.7470 - val_loss: 1.0941 - val_accuracy: 0.4624\n"
          ],
          "name": "stdout"
        }
      ]
    },
    {
      "cell_type": "code",
      "metadata": {
        "colab": {
          "base_uri": "https://localhost:8080/",
          "height": 573
        },
        "id": "Hc2VFNAzSpKn",
        "outputId": "b2a0b825-d1c9-4ded-8401-05ccc20a49e7"
      },
      "source": [
        "#Now, we want to plot our accuracy and loss for both our validation and training datasets\r\n",
        "#This code was provided by my Surestart mentor and has been lightly modified\r\n",
        "\r\n",
        "#Accuracy Curve\r\n",
        "plt.figure(1)\r\n",
        "plt.plot(history.history['accuracy'])\r\n",
        "plt.plot(history.history['val_accuracy'])\r\n",
        "plt.title('Model Accuracy')\r\n",
        "plt.ylabel('Accuracy')\r\n",
        "plt.xlabel('Epoch')\r\n",
        "plt.legend(['Train', 'Test'], loc='best', markerfirst=False)\r\n",
        "#plt.savefig('acc1.png')\r\n",
        "plt.show()\r\n",
        "\r\n",
        "#Loss Curve\r\n",
        "plt.figure(2)\r\n",
        "plt.plot(history.history['loss'])\r\n",
        "plt.plot(history.history['val_loss'])\r\n",
        "plt.title('Model Loss')\r\n",
        "plt.ylabel('Loss')\r\n",
        "plt.xlabel('Epoch')\r\n",
        "plt.legend(['Train', 'Validation'], loc='best', markerfirst=False)\r\n",
        "#plt.savefig('loss1.png')\r\n",
        "plt.show()"
      ],
      "execution_count": 23,
      "outputs": [
        {
          "output_type": "display_data",
          "data": {
            "image/png": "[encoded data removed]",
            "text/plain": [
              "<Figure size 432x288 with 1 Axes>"
            ]
          },
          "metadata": {
            "tags": [],
            "needs_background": "light"
          }
        },
        {
          "output_type": "display_data",
          "data": {
            "image/png": "[encoded data removed]",
            "text/plain": [
              "<Figure size 432x288 with 1 Axes>"
            ]
          },
          "metadata": {
            "tags": [],
            "needs_background": "light"
          }
        }
      ]
    },
    {
      "cell_type": "code",
      "metadata": {
        "colab": {
          "base_uri": "https://localhost:8080/",
          "height": 527
        },
        "id": "nIfQQmI-S5cO",
        "outputId": "4abaeb4b-4f12-495b-93f6-eb439d0424e7"
      },
      "source": [
        "#Now, we want to make predictions on our test dataset\r\n",
        "#All this code is taken from the notebook, it's very simple and I'm not trying to reinvent the wheel here\r\n",
        "model.evaluate(X_test, y_test)\r\n",
        "\r\n",
        "y_pred = model.predict_classes(X_test)\r\n",
        "\r\n",
        "print(classification_report(y_test, y_pred))\r\n",
        "\r\n",
        "#Confusion Matrix\r\n",
        "cm = confusion_matrix(y_test, y_pred)\r\n",
        "sns.heatmap(cm, cmap='Blues', cbar=False, annot=True, fmt='d');"
      ],
      "execution_count": 24,
      "outputs": [
        {
          "output_type": "stream",
          "text": [
            "94/94 [==============================] - 4s 38ms/step - loss: 1.0979 - accuracy: 0.4604\n"
          ],
          "name": "stdout"
        },
        {
          "output_type": "stream",
          "text": [
            "/usr/local/lib/python3.6/dist-packages/tensorflow/python/keras/engine/sequential.py:450: UserWarning: `model.predict_classes()` is deprecated and will be removed after 2021-01-01. Please use instead:* `np.argmax(model.predict(x), axis=-1)`,   if your model does multi-class classification   (e.g. if it uses a `softmax` last-layer activation).* `(model.predict(x) > 0.5).astype(\"int32\")`,   if your model does binary classification   (e.g. if it uses a `sigmoid` last-layer activation).\n",
            "  warnings.warn('`model.predict_classes()` is deprecated and '\n"
          ],
          "name": "stderr"
        },
        {
          "output_type": "stream",
          "text": [
            "              precision    recall  f1-score   support\n",
            "\n",
            "           0       0.00      0.00      0.00      1609\n",
            "           1       0.46      1.00      0.63      1373\n",
            "\n",
            "    accuracy                           0.46      2982\n",
            "   macro avg       0.23      0.50      0.32      2982\n",
            "weighted avg       0.21      0.46      0.29      2982\n",
            "\n"
          ],
          "name": "stdout"
        },
        {
          "output_type": "stream",
          "text": [
            "/usr/local/lib/python3.6/dist-packages/sklearn/metrics/_classification.py:1272: UndefinedMetricWarning: Precision and F-score are ill-defined and being set to 0.0 in labels with no predicted samples. Use `zero_division` parameter to control this behavior.\n",
            "  _warn_prf(average, modifier, msg_start, len(result))\n"
          ],
          "name": "stderr"
        },
        {
          "output_type": "display_data",
          "data": {
            "image/png": "[encoded data removed]",
            "text/plain": [
              "<Figure size 432x288 with 1 Axes>"
            ]
          },
          "metadata": {
            "tags": [],
            "needs_background": "light"
          }
        }
      ]
    }
  ]
}