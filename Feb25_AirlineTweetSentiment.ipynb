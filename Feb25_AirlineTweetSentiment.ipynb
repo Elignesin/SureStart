{
  "nbformat": 4,
  "nbformat_minor": 0,
  "metadata": {
    "colab": {
      "name": "Feb25-AirlineTweetSentiment.ipynb",
      "provenance": [],
      "collapsed_sections": [],
      "authorship_tag": "ABX9TyNkEnRJAHUbDkwmgF8mmQdI",
      "include_colab_link": true
    },
    "kernelspec": {
      "name": "python3",
      "display_name": "Python 3"
    }
  },
  "cells": [
    {
      "cell_type": "markdown",
      "metadata": {
        "id": "view-in-github",
        "colab_type": "text"
      },
      "source": [
        "<a href=\"https://colab.research.google.com/github/Elignesin/SureStart/blob/main/Feb25_AirlineTweetSentiment.ipynb\" target=\"_parent\"><img src=\"https://colab.research.google.com/assets/colab-badge.svg\" alt=\"Open In Colab\"/></a>"
      ]
    },
    {
      "cell_type": "markdown",
      "metadata": {
        "id": "o4Xzp_mCUFm5"
      },
      "source": [
        "## Airline Tweet Sentiment NN\r\n",
        "This notebook will be used to build and train a basic neural network using Keras to analyze tweet sentiment for tweets about airlines. The goal of this activity is to explore regularization techniques used to avoid overfitting. The activity is taken from https://towardsdatascience.com/handling-overfitting-in-deep-learning-models-c760ee047c6e#, and the data is taken from https://www.kaggle.com/crowdflower/twitter-airline-sentiment."
      ]
    },
    {
      "cell_type": "code",
      "metadata": {
        "colab": {
          "base_uri": "https://localhost:8080/"
        },
        "id": "8WRJQ8NoTuPe",
        "outputId": "92824ea1-6348-4fa2-90d3-f75e838034da"
      },
      "source": [
        "#Import the necessary libraries\r\n",
        "import pandas as pd\r\n",
        "import numpy as np\r\n",
        "import re\r\n",
        "import collections \r\n",
        "import matplotlib.pyplot as plt\r\n",
        "from pathlib import Path\r\n",
        "#NLP Processing libraries\r\n",
        "from sklearn.model_selection import train_test_split as tts\r\n",
        "from nltk.corpus import stopwords\r\n",
        "from keras.preprocessing.text import Tokenizer\r\n",
        "from keras.utils.np_utils import to_categorical\r\n",
        "from sklearn.preprocessing import LabelEncoder\r\n",
        "import nltk\r\n",
        "nltk.download('stopwords')\r\n",
        "#Modeling packages\r\n",
        "import tensorflow as tf\r\n",
        "from tensorflow import keras\r\n",
        "import keras\r\n",
        "from keras import models, layers, regularizers"
      ],
      "execution_count": 9,
      "outputs": [
        {
          "output_type": "stream",
          "text": [
            "[nltk_data] Downloading package stopwords to /root/nltk_data...\n",
            "[nltk_data]   Unzipping corpora/stopwords.zip.\n"
          ],
          "name": "stdout"
        }
      ]
    },
    {
      "cell_type": "code",
      "metadata": {
        "id": "iLB9ci1QU72-"
      },
      "source": [
        "#We need to encode some constants here\r\n",
        "NB_WORDS = 10000  # Parameter indicating the number of words we'll put in the dictionary\r\n",
        "NB_START_EPOCHS = 20  # Number of epochs we usually start to train with\r\n",
        "BATCH_SIZE = 512  # Size of the batches used in the mini-batch gradient descent\r\n",
        "MAX_LEN = 20  # Maximum number of words in a sequence"
      ],
      "execution_count": 3,
      "outputs": []
    },
    {
      "cell_type": "code",
      "metadata": {
        "id": "Jqo0pjpdVda4"
      },
      "source": [
        "#The article then uses a bunch of \"helper functions\"\r\n",
        "#The only change I made here was making the model verbose because I like the printout\r\n",
        "\r\n",
        "def deep_model(model, X_train, y_train, X_valid, y_valid):\r\n",
        "    '''\r\n",
        "    Function to train a multi-class model. The number of epochs and \r\n",
        "    batch_size are set by the constants at the top of the\r\n",
        "    notebook. \r\n",
        "    \r\n",
        "    Parameters:\r\n",
        "        model : model with the chosen architecture\r\n",
        "        X_train : training features\r\n",
        "        y_train : training target\r\n",
        "        X_valid : validation features\r\n",
        "        Y_valid : validation target\r\n",
        "    Output:\r\n",
        "        model training history\r\n",
        "    '''\r\n",
        "    model.compile(optimizer='rmsprop'\r\n",
        "                  , loss='categorical_crossentropy'\r\n",
        "                  , metrics=['accuracy'])\r\n",
        "    \r\n",
        "    history = model.fit(X_train\r\n",
        "                       , y_train\r\n",
        "                       , epochs=NB_START_EPOCHS\r\n",
        "                       , batch_size=BATCH_SIZE\r\n",
        "                       , validation_data=(X_valid, y_valid)\r\n",
        "                       , verbose=1)\r\n",
        "    return history\r\n",
        "\r\n",
        "def eval_metric(model, history, metric_name):\r\n",
        "    '''\r\n",
        "    Function to evaluate a trained model on a chosen metric. \r\n",
        "    Training and validation metric are plotted in a\r\n",
        "    line chart for each epoch.\r\n",
        "    \r\n",
        "    Parameters:\r\n",
        "        history : model training history\r\n",
        "        metric_name : loss or accuracy\r\n",
        "    Output:\r\n",
        "        line chart with epochs of x-axis and metric on\r\n",
        "        y-axis\r\n",
        "    '''\r\n",
        "    metric = history.history[metric_name]\r\n",
        "    val_metric = history.history['val_' + metric_name]\r\n",
        "    e = range(1, NB_START_EPOCHS + 1)\r\n",
        "    plt.plot(e, metric, 'bo', label='Train ' + metric_name)\r\n",
        "    plt.plot(e, val_metric, 'b', label='Validation ' + metric_name)\r\n",
        "    plt.xlabel('Epoch number')\r\n",
        "    plt.ylabel(metric_name)\r\n",
        "    plt.title('Comparing training and validation ' + metric_name + ' for ' + model.name)\r\n",
        "    plt.legend()\r\n",
        "    plt.show()\r\n",
        "\r\n",
        "def test_model(model, X_train, y_train, X_test, y_test, epoch_stop):\r\n",
        "    '''\r\n",
        "    Function to test the model on new data after training it\r\n",
        "    on the full training data with the optimal number of epochs.\r\n",
        "    \r\n",
        "    Parameters:\r\n",
        "        model : trained model\r\n",
        "        X_train : training features\r\n",
        "        y_train : training target\r\n",
        "        X_test : test features\r\n",
        "        y_test : test target\r\n",
        "        epochs : optimal number of epochs\r\n",
        "    Output:\r\n",
        "        test accuracy and test loss\r\n",
        "    '''\r\n",
        "    model.fit(X_train\r\n",
        "              , y_train\r\n",
        "              , epochs=epoch_stop\r\n",
        "              , batch_size=BATCH_SIZE\r\n",
        "              , verbose=0)\r\n",
        "    results = model.evaluate(X_test, y_test)\r\n",
        "    print()\r\n",
        "    print('Test accuracy: {0:.2f}%'.format(results[1]*100))\r\n",
        "    return results\r\n",
        "    \r\n",
        "def remove_stopwords(input_text):\r\n",
        "    '''\r\n",
        "    Function to remove English stopwords from a Pandas Series.\r\n",
        "    \r\n",
        "    Parameters:\r\n",
        "        input_text : text to clean\r\n",
        "    Output:\r\n",
        "        cleaned Pandas Series \r\n",
        "    '''\r\n",
        "    stopwords_list = stopwords.words('english')\r\n",
        "    # Some words which might indicate a certain sentiment are kept via a whitelist\r\n",
        "    whitelist = [\"n't\", \"not\", \"no\"]\r\n",
        "    words = input_text.split() \r\n",
        "    clean_words = [word for word in words if (word not in stopwords_list or word in whitelist) and len(word) > 1] \r\n",
        "    return \" \".join(clean_words) \r\n",
        "    \r\n",
        "def remove_mentions(input_text):\r\n",
        "    '''\r\n",
        "    Function to remove mentions, preceded by @, in a Pandas Series\r\n",
        "    \r\n",
        "    Parameters:\r\n",
        "        input_text : text to clean\r\n",
        "    Output:\r\n",
        "        cleaned Pandas Series \r\n",
        "    '''\r\n",
        "    return re.sub(r'@\\w+', '', input_text)\r\n",
        "def compare_models_by_metric(model_1, model_2, model_hist_1, model_hist_2, metric):\r\n",
        "    '''\r\n",
        "    Function to compare a metric between two models \r\n",
        "    \r\n",
        "    Parameters:\r\n",
        "        model_hist_1 : training history of model 1\r\n",
        "        model_hist_2 : training history of model 2\r\n",
        "        metrix : metric to compare, loss, acc, val_loss or val_acc\r\n",
        "        \r\n",
        "    Output:\r\n",
        "        plot of metrics of both models\r\n",
        "    '''\r\n",
        "    metric_model_1 = model_hist_1.history[metric]\r\n",
        "    metric_model_2 = model_hist_2.history[metric]\r\n",
        "    e = range(1, NB_START_EPOCHS + 1)\r\n",
        "    \r\n",
        "    metrics_dict = {\r\n",
        "        'acc' : 'Training Accuracy',\r\n",
        "        'loss' : 'Training Loss',\r\n",
        "        'val_acc' : 'Validation accuracy',\r\n",
        "        'val_loss' : 'Validation loss'\r\n",
        "    }\r\n",
        "    \r\n",
        "    metric_label = metrics_dict[metric]\r\n",
        "    plt.plot(e, metric_model_1, 'bo', label=model_1.name)\r\n",
        "    plt.plot(e, metric_model_2, 'b', label=model_2.name)\r\n",
        "    plt.xlabel('Epoch number')\r\n",
        "    plt.ylabel(metric_label)\r\n",
        "    plt.title('Comparing ' + metric_label + ' between models')\r\n",
        "    plt.legend()\r\n",
        "    plt.show()\r\n",
        "    \r\n",
        "def optimal_epoch(model_hist):\r\n",
        "    '''\r\n",
        "    Function to return the epoch number where the validation loss is\r\n",
        "    at its minimum\r\n",
        "    \r\n",
        "    Parameters:\r\n",
        "        model_hist : training history of model\r\n",
        "    Output:\r\n",
        "        epoch number with minimum validation loss\r\n",
        "    '''\r\n",
        "    min_epoch = np.argmin(model_hist.history['val_loss']) + 1\r\n",
        "    print(\"Minimum validation loss reached in epoch {}\".format(min_epoch))\r\n",
        "    return min_epoch"
      ],
      "execution_count": 4,
      "outputs": []
    },
    {
      "cell_type": "code",
      "metadata": {
        "id": "Pz19ngVOVuKg"
      },
      "source": [
        "#First we have to download the data from the csv\r\n",
        "data = pd.read_csv('Tweets.csv')\r\n",
        "#We'll also reindex the data so it's in a random order (shuffle it)\r\n",
        "data = data.reindex(np.random.permutation(data.index))\r\n",
        "#Now we want to keep only the text column and the sentiment column\r\n",
        "data = data[['text', 'airline_sentiment']]\r\n",
        "#Then, we'll apply our stopwords and mentions functions to clean our text\r\n",
        "data.text = data.text.apply(remove_stopwords).apply(remove_mentions)"
      ],
      "execution_count": 10,
      "outputs": []
    },
    {
      "cell_type": "code",
      "metadata": {
        "colab": {
          "base_uri": "https://localhost:8080/"
        },
        "id": "37SM4bQDWrJv",
        "outputId": "8bba22ec-4136-402f-ea83-47ad80cba948"
      },
      "source": [
        "#How big is our dataset currently?\r\n",
        "print(data.shape)"
      ],
      "execution_count": 11,
      "outputs": [
        {
          "output_type": "stream",
          "text": [
            "(14640, 2)\n"
          ],
          "name": "stdout"
        }
      ]
    },
    {
      "cell_type": "code",
      "metadata": {
        "id": "bb8kF5FBWU7d"
      },
      "source": [
        "#Now we split out our test dataset (they use 10%, I'm going to use 15%)\r\n",
        "X_train, X_test, y_train, y_test = tts(data['text'], data['airline_sentiment'],\r\n",
        "                                      test_size = .15, random_state = 1693)"
      ],
      "execution_count": 12,
      "outputs": []
    },
    {
      "cell_type": "code",
      "metadata": {
        "id": "1EaECu9gXMbP"
      },
      "source": [
        "#Now we have to preprocess our text data\r\n",
        "#This has two steps: Tokenizing and vectorizing\r\n",
        "\r\n",
        "#First, we tokenize by getting rid of filters, making words lowercase, and splitting words\r\n",
        "tk = Tokenizer(num_words=NB_WORDS,\r\n",
        "               filters='!\"#$%&()*+,-./:;<=>?@[\\\\]^_`{\"}~\\t\\n',\r\n",
        "               lower=True,\r\n",
        "               char_level=False,\r\n",
        "               split=' ')\r\n",
        "tk.fit_on_texts(X_train)\r\n",
        "\r\n",
        "#Next, we convert to vectors using texts_to_matrix with mode=binary\r\n",
        "X_train_oh = tk.texts_to_matrix(X_train, mode='binary')\r\n",
        "X_test_oh = tk.texts_to_matrix(X_test, mode='binary')\r\n",
        "\r\n",
        "#We also need to encode the target classes, which we'll do using a Label Encoder and one_hot_encoder\r\n",
        "le = LabelEncoder()\r\n",
        "y_train_le = le.fit_transform(y_train)\r\n",
        "y_test_le = le.transform(y_test)\r\n",
        "y_train_oh = to_categorical(y_train_le)\r\n",
        "y_test_oh = to_categorical(y_test_le)"
      ],
      "execution_count": 13,
      "outputs": []
    },
    {
      "cell_type": "code",
      "metadata": {
        "id": "B_Yzg6AUXy9o"
      },
      "source": [
        "#Finally, we will split off our training data from our validation data\r\n",
        "#Again, I'm using 15% here, rather than 10%\r\n",
        "X_trainf, X_val, y_trainf, y_val = tts(X_train_oh, y_train_oh, test_size=.15,\r\n",
        "                                       random_state = 1693)"
      ],
      "execution_count": 14,
      "outputs": []
    },
    {
      "cell_type": "code",
      "metadata": {
        "colab": {
          "base_uri": "https://localhost:8080/"
        },
        "id": "9tdIubn0YI7w",
        "outputId": "adbe9ecc-0f00-4c33-a28c-03056ccaa259"
      },
      "source": [
        "#Now, we're going to build a very overfit  base model\r\n",
        "#We use a softmax output layer because we have 3 classes encoded here\r\n",
        "base_model = models.Sequential()\r\n",
        "base_model.add(layers.Dense(64, activation='relu', input_shape=(NB_WORDS,)))\r\n",
        "base_model.add(layers.Dense(64, activation='relu'))\r\n",
        "base_model.add(layers.Dense(3, activation='softmax'))\r\n",
        "base_model.summary()"
      ],
      "execution_count": 17,
      "outputs": [
        {
          "output_type": "stream",
          "text": [
            "sequential_2\n",
            "Model: \"sequential_2\"\n",
            "_________________________________________________________________\n",
            "Layer (type)                 Output Shape              Param #   \n",
            "=================================================================\n",
            "dense_6 (Dense)              (None, 64)                640064    \n",
            "_________________________________________________________________\n",
            "dense_7 (Dense)              (None, 64)                4160      \n",
            "_________________________________________________________________\n",
            "dense_8 (Dense)              (None, 3)                 195       \n",
            "=================================================================\n",
            "Total params: 644,419\n",
            "Trainable params: 644,419\n",
            "Non-trainable params: 0\n",
            "_________________________________________________________________\n"
          ],
          "name": "stdout"
        }
      ]
    },
    {
      "cell_type": "code",
      "metadata": {
        "colab": {
          "base_uri": "https://localhost:8080/",
          "height": 1000
        },
        "id": "e1FWRBZ7YmK_",
        "outputId": "7f01a9e8-4495-435e-8c7b-8724b609cb80"
      },
      "source": [
        "#Now, we will train and evaluate the model using the functions built earlier\r\n",
        "base_history = deep_model(base_model, X_trainf, y_trainf, X_val, y_val)\r\n",
        "base_min = optimal_epoch(base_history)\r\n",
        "eval_metric(base_model, base_history, 'loss')"
      ],
      "execution_count": 18,
      "outputs": [
        {
          "output_type": "stream",
          "text": [
            "Epoch 1/20\n",
            "21/21 [==============================] - 2s 74ms/step - loss: 0.9458 - accuracy: 0.5611 - val_loss: 0.7085 - val_accuracy: 0.6829\n",
            "Epoch 2/20\n",
            "21/21 [==============================] - 1s 51ms/step - loss: 0.6215 - accuracy: 0.7396 - val_loss: 0.5778 - val_accuracy: 0.7777\n",
            "Epoch 3/20\n",
            "21/21 [==============================] - 1s 52ms/step - loss: 0.4371 - accuracy: 0.8540 - val_loss: 0.5313 - val_accuracy: 0.7943\n",
            "Epoch 4/20\n",
            "21/21 [==============================] - 1s 51ms/step - loss: 0.3310 - accuracy: 0.8925 - val_loss: 0.5341 - val_accuracy: 0.7879\n",
            "Epoch 5/20\n",
            "21/21 [==============================] - 1s 51ms/step - loss: 0.2652 - accuracy: 0.9073 - val_loss: 0.5561 - val_accuracy: 0.7884\n",
            "Epoch 6/20\n",
            "21/21 [==============================] - 1s 50ms/step - loss: 0.2192 - accuracy: 0.9250 - val_loss: 0.5974 - val_accuracy: 0.7777\n",
            "Epoch 7/20\n",
            "21/21 [==============================] - 1s 50ms/step - loss: 0.1822 - accuracy: 0.9385 - val_loss: 0.6440 - val_accuracy: 0.7793\n",
            "Epoch 8/20\n",
            "21/21 [==============================] - 1s 52ms/step - loss: 0.1469 - accuracy: 0.9534 - val_loss: 0.6962 - val_accuracy: 0.7804\n",
            "Epoch 9/20\n",
            "21/21 [==============================] - 1s 50ms/step - loss: 0.1240 - accuracy: 0.9616 - val_loss: 0.7688 - val_accuracy: 0.7745\n",
            "Epoch 10/20\n",
            "21/21 [==============================] - 1s 52ms/step - loss: 0.1037 - accuracy: 0.9660 - val_loss: 0.8262 - val_accuracy: 0.7616\n",
            "Epoch 11/20\n",
            "21/21 [==============================] - 1s 50ms/step - loss: 0.0830 - accuracy: 0.9733 - val_loss: 0.9025 - val_accuracy: 0.7670\n",
            "Epoch 12/20\n",
            "21/21 [==============================] - 1s 51ms/step - loss: 0.0766 - accuracy: 0.9750 - val_loss: 0.9863 - val_accuracy: 0.7563\n",
            "Epoch 13/20\n",
            "21/21 [==============================] - 1s 50ms/step - loss: 0.0640 - accuracy: 0.9786 - val_loss: 1.0690 - val_accuracy: 0.7563\n",
            "Epoch 14/20\n",
            "21/21 [==============================] - 1s 50ms/step - loss: 0.0545 - accuracy: 0.9834 - val_loss: 1.1474 - val_accuracy: 0.7568\n",
            "Epoch 15/20\n",
            "21/21 [==============================] - 1s 51ms/step - loss: 0.0476 - accuracy: 0.9846 - val_loss: 1.2275 - val_accuracy: 0.7461\n",
            "Epoch 16/20\n",
            "21/21 [==============================] - 1s 51ms/step - loss: 0.0386 - accuracy: 0.9876 - val_loss: 1.3108 - val_accuracy: 0.7493\n",
            "Epoch 17/20\n",
            "21/21 [==============================] - 1s 51ms/step - loss: 0.0366 - accuracy: 0.9887 - val_loss: 1.4020 - val_accuracy: 0.7488\n",
            "Epoch 18/20\n",
            "21/21 [==============================] - 1s 50ms/step - loss: 0.0303 - accuracy: 0.9902 - val_loss: 1.4905 - val_accuracy: 0.7413\n",
            "Epoch 19/20\n",
            "21/21 [==============================] - 1s 52ms/step - loss: 0.0295 - accuracy: 0.9909 - val_loss: 1.5756 - val_accuracy: 0.7418\n",
            "Epoch 20/20\n",
            "21/21 [==============================] - 1s 53ms/step - loss: 0.0257 - accuracy: 0.9922 - val_loss: 1.6498 - val_accuracy: 0.7343\n",
            "Minimum validation loss reached in epoch 3\n"
          ],
          "name": "stdout"
        },
        {
          "output_type": "display_data",
          "data": {
            "image/png": "[encoded data removed]",
            "text/plain": [
              "<Figure size 432x288 with 1 Axes>"
            ]
          },
          "metadata": {
            "tags": [],
            "needs_background": "light"
          }
        }
      ]
    },
    {
      "cell_type": "markdown",
      "metadata": {
        "id": "jc826HiEZKm9"
      },
      "source": [
        "From the above, we can clearly see that the model is overfit.  \r\n",
        "The training loss keeps improving towards 0, but the validation loss quickly increases instead (indicating the model is fit only to the training data).  \r\n",
        "\r\n",
        "We will now consider 3 different methods to avoid overfitting."
      ]
    },
    {
      "cell_type": "code",
      "metadata": {
        "colab": {
          "base_uri": "https://localhost:8080/",
          "height": 1000
        },
        "id": "IINDMLpLY9uI",
        "outputId": "a7edc951-8279-4932-98a7-bd9b70fbacf9"
      },
      "source": [
        "#1. Reduce the network's capacity (train on fewer parameters)\r\n",
        "#This code will produce an underfit model\r\n",
        "reduced_model = models.Sequential()\r\n",
        "reduced_model.add(layers.Dense(16, activation='relu', input_shape=(NB_WORDS,)))\r\n",
        "reduced_model.add(layers.Dense(3, activation='softmax'))\r\n",
        "print(reduced_model.summary())\r\n",
        "reduced_history = deep_model(reduced_model, X_trainf, y_trainf, X_val, y_val)\r\n",
        "reduced_min = optimal_epoch(reduced_history)\r\n",
        "eval_metric(reduced_model, reduced_history, 'loss')"
      ],
      "execution_count": 23,
      "outputs": [
        {
          "output_type": "stream",
          "text": [
            "Model: \"sequential_5\"\n",
            "_________________________________________________________________\n",
            "Layer (type)                 Output Shape              Param #   \n",
            "=================================================================\n",
            "dense_13 (Dense)             (None, 16)                160016    \n",
            "_________________________________________________________________\n",
            "dense_14 (Dense)             (None, 3)                 51        \n",
            "=================================================================\n",
            "Total params: 160,067\n",
            "Trainable params: 160,067\n",
            "Non-trainable params: 0\n",
            "_________________________________________________________________\n",
            "None\n",
            "Epoch 1/20\n",
            "21/21 [==============================] - 1s 46ms/step - loss: 1.0229 - accuracy: 0.5820 - val_loss: 0.8907 - val_accuracy: 0.6331\n",
            "Epoch 2/20\n",
            "21/21 [==============================] - 1s 31ms/step - loss: 0.8496 - accuracy: 0.6419 - val_loss: 0.7962 - val_accuracy: 0.6663\n",
            "Epoch 3/20\n",
            "21/21 [==============================] - 1s 32ms/step - loss: 0.7426 - accuracy: 0.6931 - val_loss: 0.7311 - val_accuracy: 0.7049\n",
            "Epoch 4/20\n",
            "21/21 [==============================] - 1s 32ms/step - loss: 0.6687 - accuracy: 0.7349 - val_loss: 0.6836 - val_accuracy: 0.7252\n",
            "Epoch 5/20\n",
            "21/21 [==============================] - 1s 33ms/step - loss: 0.6041 - accuracy: 0.7759 - val_loss: 0.6477 - val_accuracy: 0.7467\n",
            "Epoch 6/20\n",
            "21/21 [==============================] - 1s 32ms/step - loss: 0.5518 - accuracy: 0.8141 - val_loss: 0.6190 - val_accuracy: 0.7654\n",
            "Epoch 7/20\n",
            "21/21 [==============================] - 1s 33ms/step - loss: 0.5082 - accuracy: 0.8349 - val_loss: 0.5973 - val_accuracy: 0.7729\n",
            "Epoch 8/20\n",
            "21/21 [==============================] - 1s 33ms/step - loss: 0.4627 - accuracy: 0.8581 - val_loss: 0.5795 - val_accuracy: 0.7841\n",
            "Epoch 9/20\n",
            "21/21 [==============================] - 1s 33ms/step - loss: 0.4355 - accuracy: 0.8650 - val_loss: 0.5668 - val_accuracy: 0.7879\n",
            "Epoch 10/20\n",
            "21/21 [==============================] - 1s 34ms/step - loss: 0.4072 - accuracy: 0.8743 - val_loss: 0.5561 - val_accuracy: 0.7916\n",
            "Epoch 11/20\n",
            "21/21 [==============================] - 1s 33ms/step - loss: 0.3816 - accuracy: 0.8887 - val_loss: 0.5496 - val_accuracy: 0.7943\n",
            "Epoch 12/20\n",
            "21/21 [==============================] - 1s 34ms/step - loss: 0.3531 - accuracy: 0.8945 - val_loss: 0.5449 - val_accuracy: 0.7922\n",
            "Epoch 13/20\n",
            "21/21 [==============================] - 1s 34ms/step - loss: 0.3288 - accuracy: 0.9017 - val_loss: 0.5423 - val_accuracy: 0.7906\n",
            "Epoch 14/20\n",
            "21/21 [==============================] - 1s 33ms/step - loss: 0.3179 - accuracy: 0.9007 - val_loss: 0.5410 - val_accuracy: 0.7911\n",
            "Epoch 15/20\n",
            "21/21 [==============================] - 1s 35ms/step - loss: 0.2985 - accuracy: 0.9077 - val_loss: 0.5432 - val_accuracy: 0.7884\n",
            "Epoch 16/20\n",
            "21/21 [==============================] - 1s 33ms/step - loss: 0.2853 - accuracy: 0.9108 - val_loss: 0.5460 - val_accuracy: 0.7900\n",
            "Epoch 17/20\n",
            "21/21 [==============================] - 1s 33ms/step - loss: 0.2698 - accuracy: 0.9154 - val_loss: 0.5497 - val_accuracy: 0.7895\n",
            "Epoch 18/20\n",
            "21/21 [==============================] - 1s 33ms/step - loss: 0.2506 - accuracy: 0.9209 - val_loss: 0.5550 - val_accuracy: 0.7874\n",
            "Epoch 19/20\n",
            "21/21 [==============================] - 1s 33ms/step - loss: 0.2404 - accuracy: 0.9242 - val_loss: 0.5612 - val_accuracy: 0.7874\n",
            "Epoch 20/20\n",
            "21/21 [==============================] - 1s 32ms/step - loss: 0.2318 - accuracy: 0.9266 - val_loss: 0.5685 - val_accuracy: 0.7847\n",
            "Minimum validation loss reached in epoch 14\n"
          ],
          "name": "stdout"
        },
        {
          "output_type": "display_data",
          "data": {
            "image/png": "[encoded data removed]",
            "text/plain": [
              "<Figure size 432x288 with 1 Axes>"
            ]
          },
          "metadata": {
            "tags": [],
            "needs_background": "light"
          }
        }
      ]
    },
    {
      "cell_type": "code",
      "metadata": {
        "colab": {
          "base_uri": "https://localhost:8080/",
          "height": 295
        },
        "id": "gBZ_RCDkZvYv",
        "outputId": "d39217f7-dcc8-47b3-9dc9-ebf677a9e8cd"
      },
      "source": [
        "#We'll now compare the validation loss between the above metrics\r\n",
        "compare_models_by_metric(base_model, reduced_model, base_history, reduced_history, 'val_loss')"
      ],
      "execution_count": 24,
      "outputs": [
        {
          "output_type": "display_data",
          "data": {
            "image/png": "[encoded data removed]",
            "text/plain": [
              "<Figure size 432x288 with 1 Axes>"
            ]
          },
          "metadata": {
            "tags": [],
            "needs_background": "light"
          }
        }
      ]
    },
    {
      "cell_type": "code",
      "metadata": {
        "colab": {
          "base_uri": "https://localhost:8080/",
          "height": 1000
        },
        "id": "MHAGDm2EZ3-F",
        "outputId": "bb0394ab-4297-4a38-8e0a-0ba32edca6e8"
      },
      "source": [
        "#2. Use Regularizatoin (here, we're going to use L2 Regularization)\r\n",
        "#Regularization will penalize the network by adding a cost to the loss function\r\n",
        "#for large weights, and thus will encourage a simpler model\r\n",
        "reg_model = models.Sequential()\r\n",
        "reg_model.add(layers.Dense(64, kernel_regularizer=regularizers.l2(0.001), activation='relu', input_shape=(NB_WORDS,)))\r\n",
        "reg_model.add(layers.Dense(64, kernel_regularizer=regularizers.l2(0.001), activation='relu'))\r\n",
        "reg_model.add(layers.Dense(3, activation='softmax'))\r\n",
        "reg_history = deep_model(reg_model, X_trainf, y_trainf, X_val, y_val)\r\n",
        "reg_min = optimal_epoch(reg_history)\r\n",
        "eval_metric(reg_model, reg_history, 'loss')"
      ],
      "execution_count": 26,
      "outputs": [
        {
          "output_type": "stream",
          "text": [
            "Epoch 1/20\n",
            "21/21 [==============================] - 2s 67ms/step - loss: 1.0698 - accuracy: 0.5809 - val_loss: 0.7956 - val_accuracy: 0.6540\n",
            "Epoch 2/20\n",
            "21/21 [==============================] - 1s 54ms/step - loss: 0.7322 - accuracy: 0.7096 - val_loss: 0.6908 - val_accuracy: 0.7756\n",
            "Epoch 3/20\n",
            "21/21 [==============================] - 1s 54ms/step - loss: 0.5976 - accuracy: 0.8247 - val_loss: 0.6558 - val_accuracy: 0.7820\n",
            "Epoch 4/20\n",
            "21/21 [==============================] - 1s 54ms/step - loss: 0.5055 - accuracy: 0.8662 - val_loss: 0.6305 - val_accuracy: 0.7890\n",
            "Epoch 5/20\n",
            "21/21 [==============================] - 1s 53ms/step - loss: 0.4449 - accuracy: 0.8875 - val_loss: 0.6354 - val_accuracy: 0.7916\n",
            "Epoch 6/20\n",
            "21/21 [==============================] - 1s 56ms/step - loss: 0.3974 - accuracy: 0.9049 - val_loss: 0.6486 - val_accuracy: 0.7911\n",
            "Epoch 7/20\n",
            "21/21 [==============================] - 1s 55ms/step - loss: 0.3786 - accuracy: 0.9094 - val_loss: 0.6583 - val_accuracy: 0.7836\n",
            "Epoch 8/20\n",
            "21/21 [==============================] - 1s 55ms/step - loss: 0.3593 - accuracy: 0.9175 - val_loss: 0.6840 - val_accuracy: 0.7884\n",
            "Epoch 9/20\n",
            "21/21 [==============================] - 1s 57ms/step - loss: 0.3300 - accuracy: 0.9303 - val_loss: 0.7014 - val_accuracy: 0.7884\n",
            "Epoch 10/20\n",
            "21/21 [==============================] - 1s 56ms/step - loss: 0.3158 - accuracy: 0.9321 - val_loss: 0.7082 - val_accuracy: 0.7783\n",
            "Epoch 11/20\n",
            "21/21 [==============================] - 1s 54ms/step - loss: 0.2900 - accuracy: 0.9468 - val_loss: 0.7232 - val_accuracy: 0.7815\n",
            "Epoch 12/20\n",
            "21/21 [==============================] - 1s 54ms/step - loss: 0.2843 - accuracy: 0.9492 - val_loss: 0.7388 - val_accuracy: 0.7681\n",
            "Epoch 13/20\n",
            "21/21 [==============================] - 1s 54ms/step - loss: 0.2702 - accuracy: 0.9517 - val_loss: 0.7565 - val_accuracy: 0.7616\n",
            "Epoch 14/20\n",
            "21/21 [==============================] - 1s 53ms/step - loss: 0.2611 - accuracy: 0.9565 - val_loss: 0.7690 - val_accuracy: 0.7740\n",
            "Epoch 15/20\n",
            "21/21 [==============================] - 1s 54ms/step - loss: 0.2528 - accuracy: 0.9583 - val_loss: 0.7808 - val_accuracy: 0.7729\n",
            "Epoch 16/20\n",
            "21/21 [==============================] - 1s 55ms/step - loss: 0.2460 - accuracy: 0.9592 - val_loss: 0.7971 - val_accuracy: 0.7734\n",
            "Epoch 17/20\n",
            "21/21 [==============================] - 1s 54ms/step - loss: 0.2337 - accuracy: 0.9652 - val_loss: 0.8155 - val_accuracy: 0.7675\n",
            "Epoch 18/20\n",
            "21/21 [==============================] - 1s 53ms/step - loss: 0.2297 - accuracy: 0.9673 - val_loss: 0.8183 - val_accuracy: 0.7761\n",
            "Epoch 19/20\n",
            "21/21 [==============================] - 1s 53ms/step - loss: 0.2213 - accuracy: 0.9694 - val_loss: 0.8266 - val_accuracy: 0.7659\n",
            "Epoch 20/20\n",
            "21/21 [==============================] - 1s 53ms/step - loss: 0.2198 - accuracy: 0.9702 - val_loss: 0.8521 - val_accuracy: 0.7777\n",
            "Minimum validation loss reached in epoch 4\n"
          ],
          "name": "stdout"
        },
        {
          "output_type": "display_data",
          "data": {
            "image/png": "[encoded data removed]",
            "text/plain": [
              "<Figure size 432x288 with 1 Axes>"
            ]
          },
          "metadata": {
            "tags": [],
            "needs_background": "light"
          }
        }
      ]
    },
    {
      "cell_type": "code",
      "metadata": {
        "colab": {
          "base_uri": "https://localhost:8080/",
          "height": 295
        },
        "id": "zaAqUrCaaRur",
        "outputId": "9449f00e-4d8e-4b9d-813c-4e6aa1e8087f"
      },
      "source": [
        "#We'll now comare our base model to our regularized model\r\n",
        "compare_models_by_metric(base_model, reg_model, base_history, reg_history, 'val_loss')"
      ],
      "execution_count": 27,
      "outputs": [
        {
          "output_type": "display_data",
          "data": {
            "image/png": "[encoded data removed]",
            "text/plain": [
              "<Figure size 432x288 with 1 Axes>"
            ]
          },
          "metadata": {
            "tags": [],
            "needs_background": "light"
          }
        }
      ]
    },
    {
      "cell_type": "code",
      "metadata": {
        "colab": {
          "base_uri": "https://localhost:8080/",
          "height": 1000
        },
        "id": "5Yhxwvnmab6r",
        "outputId": "ded4d964-1c0b-4210-8069-8c2b535b4189"
      },
      "source": [
        "#3. Add Dropout layers (dropout layers set some output features to zero)\r\n",
        "#This reduces the complexity of the model\r\n",
        "drop_model = models.Sequential()\r\n",
        "drop_model.add(layers.Dense(64, activation='relu', input_shape=(NB_WORDS,)))\r\n",
        "drop_model.add(layers.Dropout(0.5))\r\n",
        "drop_model.add(layers.Dense(64, activation='relu'))\r\n",
        "drop_model.add(layers.Dropout(0.5))\r\n",
        "drop_model.add(layers.Dense(3, activation='softmax'))\r\n",
        "drop_history = deep_model(drop_model, X_trainf, y_trainf, X_val, y_val)\r\n",
        "drop_min = optimal_epoch(drop_history)\r\n",
        "eval_metric(drop_model, drop_history, 'loss')"
      ],
      "execution_count": 29,
      "outputs": [
        {
          "output_type": "stream",
          "text": [
            "Epoch 1/20\n",
            "21/21 [==============================] - 2s 67ms/step - loss: 1.0464 - accuracy: 0.4795 - val_loss: 0.8289 - val_accuracy: 0.6219\n",
            "Epoch 2/20\n",
            "21/21 [==============================] - 1s 55ms/step - loss: 0.7964 - accuracy: 0.6532 - val_loss: 0.6930 - val_accuracy: 0.7129\n",
            "Epoch 3/20\n",
            "21/21 [==============================] - 1s 53ms/step - loss: 0.6620 - accuracy: 0.7355 - val_loss: 0.6007 - val_accuracy: 0.7761\n",
            "Epoch 4/20\n",
            "21/21 [==============================] - 1s 52ms/step - loss: 0.5485 - accuracy: 0.8039 - val_loss: 0.5587 - val_accuracy: 0.7906\n",
            "Epoch 5/20\n",
            "21/21 [==============================] - 1s 52ms/step - loss: 0.4859 - accuracy: 0.8302 - val_loss: 0.5467 - val_accuracy: 0.7949\n",
            "Epoch 6/20\n",
            "21/21 [==============================] - 1s 52ms/step - loss: 0.4309 - accuracy: 0.8529 - val_loss: 0.5391 - val_accuracy: 0.7981\n",
            "Epoch 7/20\n",
            "21/21 [==============================] - 1s 51ms/step - loss: 0.3866 - accuracy: 0.8641 - val_loss: 0.5460 - val_accuracy: 0.7965\n",
            "Epoch 8/20\n",
            "21/21 [==============================] - 1s 54ms/step - loss: 0.3488 - accuracy: 0.8825 - val_loss: 0.5613 - val_accuracy: 0.7916\n",
            "Epoch 9/20\n",
            "21/21 [==============================] - 1s 53ms/step - loss: 0.3033 - accuracy: 0.8972 - val_loss: 0.5704 - val_accuracy: 0.7895\n",
            "Epoch 10/20\n",
            "21/21 [==============================] - 1s 53ms/step - loss: 0.2736 - accuracy: 0.9078 - val_loss: 0.5979 - val_accuracy: 0.7884\n",
            "Epoch 11/20\n",
            "21/21 [==============================] - 1s 53ms/step - loss: 0.2559 - accuracy: 0.9127 - val_loss: 0.6207 - val_accuracy: 0.7874\n",
            "Epoch 12/20\n",
            "21/21 [==============================] - 1s 54ms/step - loss: 0.2325 - accuracy: 0.9218 - val_loss: 0.6383 - val_accuracy: 0.7863\n",
            "Epoch 13/20\n",
            "21/21 [==============================] - 1s 54ms/step - loss: 0.2140 - accuracy: 0.9264 - val_loss: 0.6660 - val_accuracy: 0.7847\n",
            "Epoch 14/20\n",
            "21/21 [==============================] - 1s 53ms/step - loss: 0.1921 - accuracy: 0.9364 - val_loss: 0.6875 - val_accuracy: 0.7809\n",
            "Epoch 15/20\n",
            "21/21 [==============================] - 1s 52ms/step - loss: 0.1762 - accuracy: 0.9466 - val_loss: 0.7255 - val_accuracy: 0.7799\n",
            "Epoch 16/20\n",
            "21/21 [==============================] - 1s 52ms/step - loss: 0.1568 - accuracy: 0.9479 - val_loss: 0.7446 - val_accuracy: 0.7804\n",
            "Epoch 17/20\n",
            "21/21 [==============================] - 1s 54ms/step - loss: 0.1395 - accuracy: 0.9571 - val_loss: 0.7802 - val_accuracy: 0.7793\n",
            "Epoch 18/20\n",
            "21/21 [==============================] - 1s 53ms/step - loss: 0.1349 - accuracy: 0.9586 - val_loss: 0.8252 - val_accuracy: 0.7783\n",
            "Epoch 19/20\n",
            "21/21 [==============================] - 1s 52ms/step - loss: 0.1258 - accuracy: 0.9583 - val_loss: 0.8639 - val_accuracy: 0.7756\n",
            "Epoch 20/20\n",
            "21/21 [==============================] - 1s 52ms/step - loss: 0.1124 - accuracy: 0.9612 - val_loss: 0.9063 - val_accuracy: 0.7766\n",
            "Minimum validation loss reached in epoch 6\n"
          ],
          "name": "stdout"
        },
        {
          "output_type": "display_data",
          "data": {
            "image/png": "[encoded data removed]",
            "text/plain": [
              "<Figure size 432x288 with 1 Axes>"
            ]
          },
          "metadata": {
            "tags": [],
            "needs_background": "light"
          }
        }
      ]
    },
    {
      "cell_type": "code",
      "metadata": {
        "colab": {
          "base_uri": "https://localhost:8080/",
          "height": 295
        },
        "id": "jNqDs76Pas9a",
        "outputId": "f84e4b14-ce88-48aa-d328-0363f1715ae0"
      },
      "source": [
        "#Again, we'll compare our base model (sequential_2) to our dropout model\r\n",
        "compare_models_by_metric(base_model, drop_model, base_history, drop_history, 'val_loss')"
      ],
      "execution_count": 30,
      "outputs": [
        {
          "output_type": "display_data",
          "data": {
            "image/png": "[encoded data removed]",
            "text/plain": [
              "<Figure size 432x288 with 1 Axes>"
            ]
          },
          "metadata": {
            "tags": [],
            "needs_background": "light"
          }
        }
      ]
    },
    {
      "cell_type": "code",
      "metadata": {
        "colab": {
          "base_uri": "https://localhost:8080/"
        },
        "id": "7y0hcdq0a3hR",
        "outputId": "6325020b-6eb6-4fa9-e890-1123445b278b"
      },
      "source": [
        "base_results = test_model(base_model, X_train_oh, y_train_oh, X_test_oh, y_test_oh, base_min)\r\n",
        "reduced_results = test_model(reduced_model, X_train_oh, y_train_oh, X_test_oh, y_test_oh, reduced_min)\r\n",
        "reg_results = test_model(reg_model, X_train_oh, y_train_oh, X_test_oh, y_test_oh, reg_min)\r\n",
        "drop_results = test_model(drop_model, X_train_oh, y_train_oh, X_test_oh, y_test_oh, drop_min)"
      ],
      "execution_count": 31,
      "outputs": [
        {
          "output_type": "stream",
          "text": [
            "69/69 [==============================] - 0s 3ms/step - loss: 1.0262 - accuracy: 0.7482\n",
            "\n",
            "Test accuracy: 74.82%\n",
            "69/69 [==============================] - 0s 2ms/step - loss: 0.6225 - accuracy: 0.7901\n",
            "\n",
            "Test accuracy: 79.01%\n",
            "69/69 [==============================] - 0s 4ms/step - loss: 0.7216 - accuracy: 0.7819\n",
            "\n",
            "Test accuracy: 78.19%\n",
            "69/69 [==============================] - 0s 3ms/step - loss: 0.7873 - accuracy: 0.7828\n",
            "\n",
            "Test accuracy: 78.28%\n"
          ],
          "name": "stdout"
        }
      ]
    }
  ]
}